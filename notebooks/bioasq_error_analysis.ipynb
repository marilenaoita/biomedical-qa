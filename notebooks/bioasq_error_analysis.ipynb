{
 "cells": [
  {
   "cell_type": "code",
   "execution_count": 1,
   "metadata": {
    "collapsed": false
   },
   "outputs": [
    {
     "name": "stdout",
     "output_type": "stream",
     "text": [
      "Populating the interactive namespace from numpy and matplotlib\n"
     ]
    }
   ],
   "source": [
    "import pickle\n",
    "import tensorflow as tf\n",
    "\n",
    "from util import *\n",
    "from biomedical_qa.inference.inference import Inferrer, get_model_and_session\n",
    "from biomedical_qa.sampling.bioasq import BioAsqSampler\n",
    "\n",
    "import matplotlib.pyplot as plt\n",
    "%pylab inline\n",
    "pylab.rcParams['figure.figsize'] = (10, 6)"
   ]
  },
  {
   "cell_type": "code",
   "execution_count": 2,
   "metadata": {
    "collapsed": false
   },
   "outputs": [
    {
     "name": "stdout",
     "output_type": "stream",
     "text": [
      "Loading Model...\n",
      "Using weights: ../model_checkpoints/simple_pointer_with_chars/bioasq_finetune_dr05_sigmoid_bioasqtrainer_ckptits200/final_model.tf\n",
      "Restoring Weights...\n"
     ]
    }
   ],
   "source": [
    "CONFIG = \"../model_checkpoints/simple_pointer_with_chars/bioasq_finetune_dr05_sigmoid_bioasqtrainer_ckptits200/config.pickle\"\n",
    "\n",
    "model, sess = get_model_and_session(CONFIG, [\"cpu:0\"])\n",
    "inferrer = Inferrer(model, sess, beam_size=20)"
   ]
  },
  {
   "cell_type": "code",
   "execution_count": 3,
   "metadata": {
    "collapsed": true
   },
   "outputs": [],
   "source": [
    "vocab = inferrer.model.embedder.vocab\n",
    "rev_vocab = [\"\"] * len(vocab)\n",
    "for w, i in vocab.items():\n",
    "    rev_vocab[i] = w"
   ]
  },
  {
   "cell_type": "code",
   "execution_count": 4,
   "metadata": {
    "collapsed": true
   },
   "outputs": [],
   "source": [
    "sampler = BioAsqSampler(\"../data/BioASQ\", [\"dev.json\"], 16, vocab=vocab, shuffle=False, types=[\"factoid\"])"
   ]
  },
  {
   "cell_type": "markdown",
   "metadata": {},
   "source": [
    "# Run Model"
   ]
  },
  {
   "cell_type": "code",
   "execution_count": 5,
   "metadata": {
    "collapsed": true
   },
   "outputs": [],
   "source": [
    "predictions = inferrer.get_predictions(sampler)"
   ]
  },
  {
   "cell_type": "code",
   "execution_count": 6,
   "metadata": {
    "collapsed": false
   },
   "outputs": [],
   "source": [
    "sorted_predictions = [predictions[key] for key in sorted(predictions.keys())]"
   ]
  },
  {
   "cell_type": "code",
   "execution_count": 7,
   "metadata": {
    "collapsed": true
   },
   "outputs": [],
   "source": [
    "def is_correct(prediction):\n",
    "    answers = maybe_flatten_list(prediction.question.question_json[\"original_answers\"])\n",
    "    answers = [a.lower() for a in answers]\n",
    "    return prediction.answer_strings[0].lower() in answers"
   ]
  },
  {
   "cell_type": "code",
   "execution_count": 8,
   "metadata": {
    "collapsed": true
   },
   "outputs": [],
   "source": [
    "incorrect_predictions = [prediction for prediction in sorted_predictions\n",
    "                                    if not is_correct(prediction)]"
   ]
  },
  {
   "cell_type": "markdown",
   "metadata": {},
   "source": [
    "# Analysis"
   ]
  },
  {
   "cell_type": "code",
   "execution_count": 9,
   "metadata": {
    "collapsed": true
   },
   "outputs": [],
   "source": [
    "# Answer is written differently, but 100% correct\n",
    "SHOULD_COUNT_CORRECT = 0\n",
    "# Answer is probably correct (according to my understanding) or very close to a correct answer\n",
    "SOMEWHAT_CORRECT = 0\n",
    "# Answer candidates were given in the question, but the system failed to output one of the options\n",
    "MULTPLE_CHOICE = 0\n",
    "# The correct answer is within the top 5\n",
    "WITHIN_TOP5 = 0\n",
    "# Answer type of the top answer is wrong\n",
    "WRONG_ANSWER_TYPE = 0"
   ]
  },
  {
   "cell_type": "code",
   "execution_count": 10,
   "metadata": {
    "collapsed": false
   },
   "outputs": [
    {
     "name": "stdout",
     "output_type": "stream",
     "text": [
      "Id:\n",
      "  51542e44d24251bc05000081\n",
      "Question:\n",
      "  mutations in which gene determine response to both erlotinib and gefitinib?\n",
      "Answers:\n",
      " * epidermal growth factor receptor (EGFR) gene\n",
      "Predicted Answers:\n",
      " * ('EGFR', 0.99854434)\n",
      " * ('NSCLC', 0.99184448)\n",
      " * ('EGFR-TKI', 0.97593504)\n",
      " * ('T790M EGFR', 0.88556099)\n",
      " * ('non-small cell lung cancer', 0.82213044)\n",
      "\n"
     ]
    }
   ],
   "source": [
    "print_prediction(incorrect_predictions[0], rev_vocab)"
   ]
  },
  {
   "cell_type": "markdown",
   "metadata": {},
   "source": [
    "**Comment**: Should count correct"
   ]
  },
  {
   "cell_type": "code",
   "execution_count": 11,
   "metadata": {
    "collapsed": true
   },
   "outputs": [],
   "source": [
    "SHOULD_COUNT_CORRECT += 1"
   ]
  },
  {
   "cell_type": "code",
   "execution_count": 12,
   "metadata": {
    "collapsed": false
   },
   "outputs": [
    {
     "name": "stdout",
     "output_type": "stream",
     "text": [
      "Id:\n",
      "  517901bc8ed59a060a00003b\n",
      "Question:\n",
      "  the antibodies mk-3475 and ct-011 have shown promising results in treating malignancies. which protein are they targeting?\n",
      "Answers:\n",
      " * PD-1\n",
      "Predicted Answers:\n",
      " * ('Anti-PD1', 0.99995399)\n",
      " * ('nivolumab', 0.99620271)\n",
      " * ('anti-PD-1', 0.99125767)\n",
      " * ('PD-1', 0.76946491)\n",
      " * ('', 0.59915453)\n",
      "we find that using an anti-PD-1 antibody (CT-011)\n",
      "PD-1 blockade by CT-011, anti-PD-1 antibody,\n",
      ". Presence of CT-011, an anti-PD1 antibody,\n",
      "CT-011, a novel monoclonal anti-PD-1 antibody\n",
      "CT-011, a humanized antibody interacting with PD-1,\n",
      "Anti-PD1 (nivolumab and MK-3475)\n",
      "anti-PD-1 antibodies MK-3475\n",
      "\n"
     ]
    }
   ],
   "source": [
    "print_prediction(incorrect_predictions[1], rev_vocab, with_context=True)"
   ]
  },
  {
   "cell_type": "markdown",
   "metadata": {},
   "source": [
    "**Comment**: Should have known that PD-1 is the protein"
   ]
  },
  {
   "cell_type": "code",
   "execution_count": 13,
   "metadata": {
    "collapsed": true
   },
   "outputs": [],
   "source": [
    "WRONG_ANSWER_TYPE += 1\n",
    "WITHIN_TOP5 += 1"
   ]
  },
  {
   "cell_type": "code",
   "execution_count": 14,
   "metadata": {
    "collapsed": false
   },
   "outputs": [
    {
     "name": "stdout",
     "output_type": "stream",
     "text": [
      "Id:\n",
      "  52bf1f2d03868f1b06000015\n",
      "Question:\n",
      "  which drug is benserazide usually co-administered with?\n",
      "Answers:\n",
      " * L-Dopa\n",
      "Predicted Answers:\n",
      " * ('levodopa', 0.97044557)\n",
      " * ('L-DOPA', 0.92194831)\n",
      " * ('Eticlopride', 0.89383131)\n",
      " * ('rats', 0.88922167)\n",
      " * ('Tolcapone', 0.78956878)\n",
      "\n"
     ]
    }
   ],
   "source": [
    "print_prediction(incorrect_predictions[2], rev_vocab)"
   ]
  },
  {
   "cell_type": "markdown",
   "metadata": {},
   "source": [
    "**Comment**: Should count correct"
   ]
  },
  {
   "cell_type": "code",
   "execution_count": 15,
   "metadata": {
    "collapsed": true
   },
   "outputs": [],
   "source": [
    "SHOULD_COUNT_CORRECT += 1"
   ]
  },
  {
   "cell_type": "code",
   "execution_count": 16,
   "metadata": {
    "collapsed": false
   },
   "outputs": [
    {
     "name": "stdout",
     "output_type": "stream",
     "text": [
      "Id:\n",
      "  52bf217003868f1b0600001b\n",
      "Question:\n",
      "  what can nothobranchius furzeri be used as a model system for?\n",
      "Answers:\n",
      " * aging research\n",
      "Predicted Answers:\n",
      " * ('resveratrol', 0.99818003)\n",
      " * ('drug validation', 0.99495518)\n",
      " * ('aging', 0.92815971)\n",
      " * ('biological curiosity', 0.92063314)\n",
      " * ('Japanese Medaka', 0.87659377)\n",
      " * ('genetic control of life-history traits', 0.78218514)\n",
      " * ('aging research community', 0.71681327)\n",
      " * ('N', 0.71493572)\n",
      " * ('stickleback', 0.67471093)\n",
      " * ('comparative genomics of aging', 0.66058344)\n",
      "The short-lived annual fish Nothobranchius furzeri shows extremely short captive life span and accelerated expression of age markers, making it an interesting model system to investigate the effects of experimental manipulations on longevity and age-related pathologies.\n",
      "Owing to large differences in aging phenotypes in different lines, N. furzeri could represent a model system for studying the genetic control of life-history traits in natural populations.\n",
      "It is very close to the Japanese Medaka,\n",
      "\n"
     ]
    }
   ],
   "source": [
    "print_prediction(incorrect_predictions[3], rev_vocab, top_k=10, with_context=True)"
   ]
  },
  {
   "cell_type": "markdown",
   "metadata": {},
   "source": [
    "**Comment**: #2 should count correct. Answer one is completely off (wrong type, wrong context)."
   ]
  },
  {
   "cell_type": "code",
   "execution_count": 17,
   "metadata": {
    "collapsed": true
   },
   "outputs": [],
   "source": [
    "WRONG_ANSWER_TYPE += 1\n",
    "WITHIN_TOP5 += 1"
   ]
  },
  {
   "cell_type": "code",
   "execution_count": 18,
   "metadata": {
    "collapsed": false
   },
   "outputs": [
    {
     "name": "stdout",
     "output_type": "stream",
     "text": [
      "Id:\n",
      "  52d63b2803868f1b0600003a\n",
      "Question:\n",
      "  from which tissue was the nci-h520 cell-line derived?\n",
      "Answers:\n",
      " * Lung\n",
      "Predicted Answers:\n",
      " * ('lung cancer', 0.98956686)\n",
      " * ('non-small cell lung cancer', 0.98268563)\n",
      " * ('human non-small cell lung cancer', 0.93219846)\n",
      " * ('cancer', 0.56639189)\n",
      " * ('lung cancer cells', 0.069223545)\n",
      "on human non-small cell lung cancer cell lines, A549, NCI-H460 and NCI-H520.\n",
      "NCI-H520 and NCI-H596 lung cancer cells. \n",
      "\n"
     ]
    }
   ],
   "source": [
    "print_prediction(incorrect_predictions[4], rev_vocab, with_context=True)"
   ]
  },
  {
   "cell_type": "markdown",
   "metadata": {},
   "source": [
    "**Comment**: Confusing Context"
   ]
  },
  {
   "cell_type": "code",
   "execution_count": 19,
   "metadata": {
    "collapsed": true
   },
   "outputs": [],
   "source": [
    "WRONG_ANSWER_TYPE += 1"
   ]
  },
  {
   "cell_type": "code",
   "execution_count": 20,
   "metadata": {
    "collapsed": false
   },
   "outputs": [
    {
     "name": "stdout",
     "output_type": "stream",
     "text": [
      "Id:\n",
      "  52fa6ac72059c6d71c000055\n",
      "Question:\n",
      "  is the transcriptional regulator bach1 an activator or a repressor?\n",
      "Answers:\n",
      " * Repressor\n",
      "Predicted Answers:\n",
      " * ('Bach1', 0.9980951)\n",
      " * ('transcriptional repressor', 0.955405)\n",
      " * ('repressor', 0.85322726)\n",
      " * ('Bach-1', 0.83765137)\n",
      " * ('Nrf2\\nach1', 0.54562265)\n",
      "the impact of BACH1 repression on transcription\n",
      "Bach1 is a repressor of the oxidative stress response\n",
      "transcriptional repressor Bach-1, \n",
      "Bach1, a transcriptional repressor of the HMOX1 gene\n",
      "The mechanism underlying Bach1-mediated HO-1 repression is less well understood\n",
      "Transcription factor BACH1 [BTB (broad-complex, tramtrack and bric-a-brac) and CNC (cap'n'collar protein) homology 1] binds to ARE-like sequences, functioning as a transcriptional repressor \n",
      "Bach1) is a transcriptional repressor o\n",
      "\n"
     ]
    }
   ],
   "source": [
    "print_prediction(incorrect_predictions[5], rev_vocab, with_context=True)"
   ]
  },
  {
   "cell_type": "markdown",
   "metadata": {},
   "source": [
    "**Comment**: Question clearly offers two choices, model fails to recognize this."
   ]
  },
  {
   "cell_type": "code",
   "execution_count": 21,
   "metadata": {
    "collapsed": true
   },
   "outputs": [],
   "source": [
    "MULTPLE_CHOICE += 1\n",
    "WRONG_ANSWER_TYPE += 1\n",
    "WITHIN_TOP5 += 1"
   ]
  },
  {
   "cell_type": "code",
   "execution_count": 22,
   "metadata": {
    "collapsed": false
   },
   "outputs": [
    {
     "name": "stdout",
     "output_type": "stream",
     "text": [
      "Id:\n",
      "  530c7f52970c65fa6b000010\n",
      "Question:\n",
      "  oxantel is used for periodontitis treatment. how does it work?\n",
      "Answers:\n",
      " * Oxantel disrupts polymicrobial biofilm\n",
      "Predicted Answers:\n",
      " * ('inhibit fumarate reductase', 0.99005467)\n",
      " * ('inhibit P', 0.98471665)\n",
      " * ('fumarate reductase', 0.95816457)\n",
      " * ('oxantel', 0.88623297)\n",
      " * ('to inhibit fumarate reductase (Frd) activity in some pathogenic bacteria', 0.86248612)\n",
      " * ('planktonic cells', 0.84832942)\n",
      " * ('anthelmintic', 0.76686734)\n",
      " * ('significantly inhibited biofilm formation', 0.7591272)\n",
      " * ('polymicrobial biofilm', 0.75016397)\n",
      " * ('gingivalis homotypic biofilm formation', 0.75009876)\n",
      "Oxantel disrupts polymicrobial biofilm development of periodontal pathogens\n",
      "he anthelmintic drug oxantel has been shown to inhibit fumarate reductase (Frd) activity in some pathogenic bacteria and inhibit P. gingivalis homotypic biofilm formation.\n",
      "Oxantel, a cholinergic anthelmintic and fumarate reductase inhibitor, significantly inhibited biofilm formation by P. gingivalis and disrupted established biofilms at concentrations below its MIC against planktonic cells.\n",
      "\n"
     ]
    }
   ],
   "source": [
    "print_prediction(incorrect_predictions[6], rev_vocab, 10, with_context=True)"
   ]
  },
  {
   "cell_type": "markdown",
   "metadata": {},
   "source": [
    "**Comment**: Not sure if top answer would be correct too. Generally, the answer type of some answers is clearly incorrect (\"inhibit P\", \"oxantel\")"
   ]
  },
  {
   "cell_type": "code",
   "execution_count": 23,
   "metadata": {
    "collapsed": true
   },
   "outputs": [],
   "source": [
    "SOMEWHAT_CORRECT += 1"
   ]
  },
  {
   "cell_type": "code",
   "execution_count": 24,
   "metadata": {
    "collapsed": false
   },
   "outputs": [
    {
     "name": "stdout",
     "output_type": "stream",
     "text": [
      "Id:\n",
      "  530cf4fe960c95ad0c00000b\n",
      "Question:\n",
      "  which type of lung cancer is afatinib used for?\n",
      "Answers:\n",
      " * EGFR-mutant non small cell lung carcinoma\n",
      " * EGFR-mutant NSCLC\n",
      "Predicted Answers:\n",
      " * ('non-small cell lung cancer', 0.95893651)\n",
      " * ('non-small-cell lung cancer', 0.84804577)\n",
      " * ('gefitinib', 0.84352475)\n",
      " * ('metastatic non-small-cell lung cancer', 0.7865296)\n",
      " * ('HER2', 0.67783076)\n",
      "Afatinib is a novel irreversible inhibitor of the ErbB family members EGFR, tyrosine kinase-type cell surface receptors HER2 and HER4. It shows preclinical efficacy in NSCLC with common EGFR-activating mutations and the T790M mutation typically associated with EGFR TKI resistance\n",
      "At present, only first-generation EGFR-tyrosine kinase inhibitors (TKIs) (erlotinib and gefitinib) are available for clinical use. Second-generation irreversible EGFR-TKIs, such as afatinib, are still in clinical trials\n",
      "\n"
     ]
    }
   ],
   "source": [
    "print_prediction(incorrect_predictions[7], rev_vocab, with_context=True)"
   ]
  },
  {
   "cell_type": "markdown",
   "metadata": {},
   "source": [
    "**Comment**: Should count correct:"
   ]
  },
  {
   "cell_type": "code",
   "execution_count": 25,
   "metadata": {
    "collapsed": true
   },
   "outputs": [],
   "source": [
    "SHOULD_COUNT_CORRECT += 1"
   ]
  },
  {
   "cell_type": "code",
   "execution_count": 26,
   "metadata": {
    "collapsed": false
   },
   "outputs": [
    {
     "name": "stdout",
     "output_type": "stream",
     "text": [
      "Id:\n",
      "  530cf54dab4de4de0c000009\n",
      "Question:\n",
      "  what is the reason for the narcolepsy cases developed after h1n1 influenza vaccination?\n",
      "Answers:\n",
      " * The proposed mechanism for postvaccination narcolepsy is one in which an environmental trigger causes or enhances an antibody-mediated autoimmune response in patients with a preexisting genetic susceptibility.\n",
      "Predicted Answers:\n",
      " * ('loss of hypothalamic hypocretin/orexin (hcrt)', 0.99192101)\n",
      " * ('support an autoimmune mechanism', 0.98578459)\n",
      " * ('molecular mimicry', 0.97660595)\n",
      " * ('autoimmune reaction', 0.97629696)\n",
      " * ('winter H1N1 infections', 0.96838886)\n",
      "The proposed mechanism for postvaccination narcolepsy is one in which an environmental trigger causes or enhances an antibody-mediated autoimmune response in patients with a preexisting genetic susceptibility. \n",
      "The loss of hypothalamic hypocretin/orexin (hcrt) producing neurons causes narcolepsy with cataplexy. An autoimmune basis for the disease has long been suspected and recent results have greatly strengthened this hypothesis. \n",
      "pointing towards processes such as molecular mimicry or bystande\n",
      "\n"
     ]
    }
   ],
   "source": [
    "print_prediction(incorrect_predictions[8], rev_vocab, with_context=True)"
   ]
  },
  {
   "cell_type": "markdown",
   "metadata": {},
   "source": [
    "**Comment**: Not sure if #1 should count as correct. \"autoimmune reaction\" should definitely be a valid answer."
   ]
  },
  {
   "cell_type": "code",
   "execution_count": 27,
   "metadata": {
    "collapsed": true
   },
   "outputs": [],
   "source": [
    "SOMEWHAT_CORRECT += 1\n",
    "WITHIN_TOP5 += 1"
   ]
  },
  {
   "cell_type": "code",
   "execution_count": 28,
   "metadata": {
    "collapsed": false
   },
   "outputs": [
    {
     "name": "stdout",
     "output_type": "stream",
     "text": [
      "Id:\n",
      "  53130a77e3eabad02100000f\n",
      "Question:\n",
      "  which hormone deficiency is implicated in the costello syndrome ?\n",
      "Answers:\n",
      " * Growth hormone\n",
      "Predicted Answers:\n",
      " * ('adrenal insufficiency', 0.99540198)\n",
      " * ('Hypoglycemia', 0.99084151)\n",
      " * ('osteoporosis', 0.98533767)\n",
      " * ('RasGRF1', 0.98475939)\n",
      " * ('growth hormone deficiency', 0.93529189)\n",
      "Measurements obtained after growth hormone exposure in 15 individuals were excluded in this analysis.\n",
      "Furthermore, we observed that RasGRF1 becomes phosphorylated in ARMS after stimulation by several pro-metastatic factors, such as SDF-1 and HGF/SF, as well as after exposure to growth-promoting Igf-2 and insulin.\n",
      "Progressively worsening hypertrophic cardiomyopathy in a child with newly diagnosed Costello syndrome while receiving growth hormone therapy.\n",
      "This report highlights two important concepts: the association of genetic syndromes with hypertrophic cardiomyopathy and the possibility of worsening severity of hypertrophic cardiomyopathy linked to growth hormone therapy.\n",
      "Oncogenic HRAS mutations cause prolonged PI3K signaling in response to epidermal growth factor in fibroblasts of patients with Costello syndrome.\n",
      "Statistical significance was achieved, despite the relatively small number of patients with BRAF and MEK1 mutations reported here, for polyhydramnios, growth hormone deficiency and the presence of more than one papilloma, which were less common in CFC compared to HRAS mutation positive patients. \n",
      "Endocrine abnormalities including growth hormone deficiency, adrenal insufficiency, glucose intolerance, parathyroid adenoma with hyperprolactinemia and hypoglycemia have been described. Hypoglycemia has been documented due to growth hormone and cortisol deficiency. \n",
      "Endocrine problems in this series were osteoporosis, central hypogonadism, and delayed puberty.\n",
      "Growth hormone deficiency in Costello syndrome.\n",
      "We report on three patients with Costello syndrome and isolated growth hormone (GH) deficiency treated with biosynthetic GH. To our knowledge, these are the only patients with Costello syndrome who have been successfully treated for GH deficiency. We review the pathophysiology of Costello syndrome and highlight the recent recommendations of tumor screening and cardiac surveillance in this population, of particular relevance to those receiving GH therapy.\n",
      "Costello syndrome with growth hormone deficiency and hypoglycemia: a new report and review of the endocrine associations.\n",
      "We describe an 18-month-old boy with Costello syndrome (CS) with proven partial growth hormone (GH) deficiency and hypoglycemic episodes. The hypoglycemia is deemed to be due to cortisol deficiency. This report represents the second published case of cortisol deficiency in the CS.\n",
      "We present the case of a boy with Costello syndrome who developed osteofibrous dysplasia during a phase of growth hormone therapy.\n",
      "Thus, although osteofibrous dysplasia in Costello syndrome has not been reported before, growth hormone therapy should be used under close supervision in children with this syndrome.\n",
      "Endocrinological investigations revealed a partial deficiency of growth hormone.\n",
      "\n"
     ]
    }
   ],
   "source": [
    "print_prediction(incorrect_predictions[9], rev_vocab, with_context=True, context_char_limit=10000)"
   ]
  },
  {
   "cell_type": "markdown",
   "metadata": {},
   "source": [
    "**Comment**: Wrong Answer Type. Also \"growth hormone\" is the most common string close to \"deficiency\"..."
   ]
  },
  {
   "cell_type": "code",
   "execution_count": 29,
   "metadata": {
    "collapsed": true
   },
   "outputs": [],
   "source": [
    "WRONG_ANSWER_TYPE += 1\n",
    "WITHIN_TOP5 += 1"
   ]
  },
  {
   "cell_type": "code",
   "execution_count": 30,
   "metadata": {
    "collapsed": false
   },
   "outputs": [
    {
     "name": "stdout",
     "output_type": "stream",
     "text": [
      "Id:\n",
      "  53189b05b166e2b80600001e\n",
      "Question:\n",
      "  which glands are subject to attack by lymphocytes in sjogren's syndrome?\n",
      "Answers:\n",
      " * The lacrimal and/or salivary glands\n",
      "Predicted Answers:\n",
      " * ('salivary', 0.98992836)\n",
      " * ('xerophthalmia', 0.98288071)\n",
      " * ('lachrymal', 0.96502686)\n",
      " * ('exocrine glands', 0.95683044)\n",
      " * ('lacrimal', 0.95671654)\n",
      "In Sjögren's syndrome the autoimmune response is directed against the exocrine glands, which, as histopathological hallmark of the disease, display persistent and progressive focal mononuclear cell infiltrates.\n",
      "Sjögren's syndrome (SS) is an autoimmune disease characterized by clonal B cell attack of the exocrine glands and dysregulated expression of B cell-activating factor (BAFF).\n",
      "Sjögren's syndrome (SjS) is a human autoimmune disease characterized by exocrine dysfunction resulting from chronic autoimmune attack primarily against the lacrimal and/or salivary glands.\n",
      "Sjögren's syndrome is an autoimmune disease in which immune cells chronically attack the lachrymal and salivary glands.\n",
      "Sjögren's syndrome (SjS) is a systemic autoimmune disease in which an immunological attack against the salivary and lacrimal glands results, respectively, in severe dry mouth and dry eye diseases.\n",
      "Sjögren's syndrome (SS) is a chronic autoimmune disease affecting epithelial tissues. Exocrine glands are the primary target and their functional impairment comes as a result of immune attack of epithelial cells of the affected organs (autoimmune epithelitis).\n",
      "Sjögren's syndrome (SjS) is a human autoimmune disease characterized by the loss of exocrine function as a result of a chronic immune attack directed primarily against the salivary and lacrimal glands leading to xerostomia (dry mouth) and xerophthalmia (dry eyes).\n",
      "The purpose of this qualitative research was to explore the lived experiences of wo\n",
      "\n"
     ]
    }
   ],
   "source": [
    "print_prediction(incorrect_predictions[10], rev_vocab, with_context=True, context_char_limit=1500)"
   ]
  },
  {
   "cell_type": "markdown",
   "metadata": {},
   "source": [
    "**Comment**: Should be a list question, two elements are #1 and #3. However, \"xerophthalmia\" is completely off (wrong answer type)."
   ]
  },
  {
   "cell_type": "code",
   "execution_count": 31,
   "metadata": {
    "collapsed": true
   },
   "outputs": [],
   "source": [
    "SOMEWHAT_CORRECT += 1\n",
    "WITHIN_TOP5 += 1"
   ]
  },
  {
   "cell_type": "code",
   "execution_count": 32,
   "metadata": {
    "collapsed": false
   },
   "outputs": [
    {
     "name": "stdout",
     "output_type": "stream",
     "text": [
      "Id:\n",
      "  5319ac99b166e2b806000034\n",
      "Question:\n",
      "  which is the third subunit of the tsc1-tsc2 complex upstream of mtorc1?\n",
      "Answers:\n",
      " * TBC1D7\n",
      "Predicted Answers:\n",
      " * ('TSC1-TSC2-TBC1D7', 0.99963701)\n",
      " * ('TSC-TBC', 0.99812037)\n",
      " * ('TBC1D7', 0.99184626)\n",
      " * ('Rheb', 0.97572714)\n",
      " * ('Rheb-GAP', 0.94920486)\n",
      "The tuberous sclerosis complex (TSC) tumor suppressors form the TSC1-TSC2 complex, which limits cell growth in response to poor growth conditions. Through its GTPase-activating protein (GAP) activity toward Rheb, this complex inhibits the mechanistic target of rapamycin (mTOR) complex 1 (mTORC1), a key promoter of cell growth.\n",
      "Here, we identify and biochemically characterize TBC1D7 as a stably associated and ubiquitous third core subunit of the TSC1-TSC2 complex. We demonstrate that the TSC1-TSC2-TBC1D7 (TSC-TBC) complex is the functional complex that senses specific cellular growth conditions and possesses Rheb-GAP activity.\n",
      "TBC1D7 knockdown decreases the association of TSC1 and TSC2 leading to decreased Rheb-GAP activity, without effects on the localization of TSC2 to the lysosome.\n",
      "Like the other TSC-TBC components, TBC1D7 knockdown results in increased mTORC1 signaling, delayed induction of autophagy, and enhanced cell growth under poor growth conditions.\n",
      "\n"
     ]
    }
   ],
   "source": [
    "print_prediction(incorrect_predictions[11], rev_vocab, with_context=True, context_char_limit=1000)"
   ]
  },
  {
   "cell_type": "markdown",
   "metadata": {},
   "source": [
    "**Comment**: Answer contains complete unit instead of subunit, which was asked for."
   ]
  },
  {
   "cell_type": "code",
   "execution_count": 33,
   "metadata": {
    "collapsed": true
   },
   "outputs": [],
   "source": [
    "WRONG_ANSWER_TYPE += 1\n",
    "WITHIN_TOP5 += 1"
   ]
  },
  {
   "cell_type": "code",
   "execution_count": 34,
   "metadata": {
    "collapsed": false
   },
   "outputs": [
    {
     "name": "stdout",
     "output_type": "stream",
     "text": [
      "Id:\n",
      "  5321bc309b2d7acc7e00000d\n",
      "Question:\n",
      "  what is the target protein of the drug idelalisib?\n",
      "Answers:\n",
      " * PI3K-δ\n",
      " * phosphoinositol-3 kinase delta isoform\n",
      "Predicted Answers:\n",
      " * ('PI3K', 0.99977916)\n",
      " * ('phosphoinositol-3', 0.83978611)\n",
      " * ('delta isoform', 0.78839111)\n",
      " * ('PI3Kδ', 0.57102162)\n",
      " * ('PI3Kδ (idelalisib)', 0.38207909)\n",
      " PI3Kδ (idelalisib). \n",
      "Idelalisib (PI3K inhibitor) \n",
      "In the last few years, several classes of potent and selective small molecule PI3K inhibitors have been developed, and at least fifteen compounds have progressed into clinical trials as new anticancer drugs. Among these, idelalisib\n",
      " idelalisib represents a first-in-class specific inhibitor of the phosphoinositol-3 kinase (PI3K) delta isoform.\n",
      "PI3K inhibitor idelalisib \n",
      "the PI3K inhibitor idelalisib \n",
      "PI3K-δ inhibitor idelalisib\n",
      "idelalisib (GS-110\n",
      "\n"
     ]
    }
   ],
   "source": [
    "print_prediction(incorrect_predictions[12], rev_vocab, with_context=True)"
   ]
  },
  {
   "cell_type": "markdown",
   "metadata": {},
   "source": [
    "**Comment**: Should count correct."
   ]
  },
  {
   "cell_type": "code",
   "execution_count": 35,
   "metadata": {
    "collapsed": true
   },
   "outputs": [],
   "source": [
    "SHOULD_COUNT_CORRECT += 1"
   ]
  },
  {
   "cell_type": "code",
   "execution_count": 36,
   "metadata": {
    "collapsed": false
   },
   "outputs": [
    {
     "name": "stdout",
     "output_type": "stream",
     "text": [
      "Id:\n",
      "  532dcfc9d6d3ac6a34000021\n",
      "Question:\n",
      "  what is the characteristic domain of histone methyltransferases?\n",
      "Answers:\n",
      " * SET domain\n",
      "Predicted Answers:\n",
      " * ('SETDB1', 0.99537617)\n",
      " * ('SUV39H1', 0.92167568)\n",
      " * ('Trithorax', 0.82967973)\n",
      " * ('Polycomb repressive complex 2 (PRC2)', 0.76899356)\n",
      " * ('Meisetz', 0.74333292)\n",
      " * ('HMTase \\nSET', 0.73406488)\n",
      " * ('subuni\\nESC-E', 0.62423778)\n",
      " * ('C-terminal', 0.56639498)\n",
      " * ('WDR5', 0.51379132)\n",
      " * ('PRC2', 0.51079816)\n",
      "C-terminal SET domain that catalyzes methylation of histone H3\n",
      "not all members of the H3K4 methyltransferase family contain n-SET domains\n",
      "protein methyltransferases (both protein arginine and lysine methyltransferases) and the relatedness of their catalytic domains. We identified 51 protein lysine methyltransferase proteins based on similarity to the canonical Drosophila Su(var)3-9, enhancer of zeste (E(z)), and trithorax (trx) domain\n",
      " a SET domain histone methyltransferase \n",
      "A common feature of the mammalian MLL/SET1 complexes is the presence of three core components (RbBP5, Ash2L and WDR5) and a catalytic subunit containing a SET domain\n",
      "catalytic histone methyltransferase SET-domain\n",
      "SET domain methyltransferases deposit methyl marks on specific histone tail lysine residues\n",
      "The biological function of MLL1 is mediated by the histone H3K4 methyltransferase activity of the carboxyl-terminal SET domain.\n",
      "Polycomb repressive complex 2 (PRC2), which methylates lysine 27 of histone H3. Information on how PRC2 works is limited by lack of structural data on the catalytic subunit, Enhancer of zeste (E(Z)), and the paucity of E(z) mutant alleles that alter its SET domain.\n",
      "histone modification is catalyzed by protein lysine methyltransferases (PKMTs). PKMTs contain a conserved SET domain\n",
      "Set1A complex analogous to the yeast Set1/COMPASS histone H3-Lys4 methyltransferase complex \n",
      "Set1A protein shares 39% identity with an uncharacterized SET domain protein\n",
      "multiple methylations catalyzed by SET domain protein methyltransferases\n",
      "methyl group transfers by SET domain protein lysine methyltransferases.\n",
      "SET domain protein functions as a histone methyltransferase\n",
      "SUV39H1 impaired enzyme activity despite the presence of an intact catalytic SET domain\n",
      "Meisetz (meiosis-induced factor containing a PR/SET domain and zinc-finger motif) is a histone methyltransferase\n",
      "The fly complex contains a catalytic SET domain subuni\n",
      "ESC-E(Z) complex of Drosophila melanogaster Polycomb group (PcG) repressors is a histone H3 methyltransferase (HMTase)\n",
      "Murine G9a is a 1263 amino acid H3-K9 methyltransferase that possesses characteristic SET domain and ANK repeats\n",
      "domains of SET proteins becoming ordered upon addition of AdoMet cofactor and develop a model for the catalytic cycle of these enzymes\n",
      "SET domain, first identified within and named after proteins encoded by three Drosophila genes [Su(var)3-9, E(z), and Trithorax], is recognized as a signature motif for histone methyltransferases \n",
      "(HMT)(1) class enzymes that methylate lysine residues of histones or proteins contain a conserved catalytic core termed the SET domain\n",
      "ERG-associated protein with a SET domain, also called SETDB1) is a novel histone methyltransferase that catalyzes methylation of histone H3-lysine 9 (H3-K9)\n",
      "SET domain histone methyltransferase\n",
      " Unlike other histone methyltransferases, Dot1 does not contain a SET domain,\n",
      "SET domain-containing HMTase \n",
      "SET (suppressor of variegation, enhancer of zest and trithorax) domain (ESET) that was found to have the activity of a histone H3-specific methyltransferase\n",
      "SET domain contains the catalytic center of lysine methyltransferases that target the N-terminal tails of histones and regulate chromatin function\n",
      " The evolutionarily conserved SET domain occurs in most proteins known to possess histone lysine methyltransferase activity\n",
      "the evolutionarily conserved SET domain, which requires adjacent cysteine-rich regions to confer histone methyltransferase activity\n",
      "\n"
     ]
    }
   ],
   "source": [
    "print_prediction(incorrect_predictions[13], rev_vocab, 10, with_context=True, context_char_limit=10000)"
   ]
  },
  {
   "cell_type": "markdown",
   "metadata": {},
   "source": [
    "**Comment**: #1 should count correct (\"ERG-associated protein with a SET domain, also called SETDB1\"). However, it doesn't seem to have clearly understood that the answer type should be a domain."
   ]
  },
  {
   "cell_type": "code",
   "execution_count": 37,
   "metadata": {
    "collapsed": true
   },
   "outputs": [],
   "source": [
    "SHOULD_COUNT_CORRECT += 1"
   ]
  },
  {
   "cell_type": "code",
   "execution_count": 38,
   "metadata": {
    "collapsed": false
   },
   "outputs": [
    {
     "name": "stdout",
     "output_type": "stream",
     "text": [
      "Id:\n",
      "  534427f8aeec6fbd07000009\n",
      "Question:\n",
      "  are most driver gene mutations synonymous or non-synonymous?\n",
      "Answers:\n",
      " * non-synonymous\n",
      "Predicted Answers:\n",
      " * ('SNVs', 0.91852707)\n",
      " * ('non-synonymous', 0.72141236)\n",
      " * ('ATRX', 0.71677607)\n",
      " * ('non', 0.59236729)\n",
      " * ('somatic', 0.5156346)\n",
      " * ('NRAS(Q61R)', 0.40278721)\n",
      " * ('neuroblastoma', 0.33723992)\n",
      " * ('MAPK', 0.32364196)\n",
      " * ('glutamate pathways', 0.2894012)\n",
      " * ('BRAF', 0.27417505)\n",
      "\n"
     ]
    }
   ],
   "source": [
    "print_prediction(incorrect_predictions[14], rev_vocab, 10)"
   ]
  },
  {
   "cell_type": "markdown",
   "metadata": {},
   "source": [
    "**Comment**: Did not recognize multiple choice question. #1 is completely wrong. At least the correct answer is #2."
   ]
  },
  {
   "cell_type": "code",
   "execution_count": 39,
   "metadata": {
    "collapsed": true
   },
   "outputs": [],
   "source": [
    "MULTPLE_CHOICE += 1\n",
    "WITHIN_TOP5 += 1"
   ]
  },
  {
   "cell_type": "code",
   "execution_count": 40,
   "metadata": {
    "collapsed": false
   },
   "outputs": [
    {
     "name": "stdout",
     "output_type": "stream",
     "text": [
      "Id:\n",
      "  534abe8aaeec6fbd07000013\n",
      "Question:\n",
      "  which heat shock protein is found to be upregulated during hsp90 inhibition?\n",
      "Answers:\n",
      " * HSP70\n",
      "Predicted Answers:\n",
      " * ('Akt phospho-rylation', 0.99945849)\n",
      " * ('Nox2', 0.99847507)\n",
      " * ('VEGF', 0.99395549)\n",
      " * ('Hsp70', 0.99362838)\n",
      " * ('5', 0.9898451)\n",
      "HSP90 inhibition was associated with decreased neuroendocrine ErbB and IGF-I receptor expression, decreased Erk and Akt phospho-rylation and the induction of HSP70 expression.\n",
      "Inhibition of Hsp90 upregulated the expression of Hsp70 and Hsp70-bound Nox2, 5 and promoted degradation.\n",
      "Conversely, inhibition of HSP90 significantly increased the expression of both VEGF and HGF mRNA, and induced HSP70 protein in PHH cultures in vitro.\n",
      "\n"
     ]
    }
   ],
   "source": [
    "print_prediction(incorrect_predictions[15], rev_vocab, with_context=True)"
   ]
  },
  {
   "cell_type": "markdown",
   "metadata": {},
   "source": [
    "**Comment**: #1 Seems to be of the correct type, but the question asks for an increase, not decrease."
   ]
  },
  {
   "cell_type": "code",
   "execution_count": 41,
   "metadata": {
    "collapsed": true
   },
   "outputs": [],
   "source": [
    "WITHIN_TOP5 += 1"
   ]
  },
  {
   "cell_type": "code",
   "execution_count": 42,
   "metadata": {
    "collapsed": false
   },
   "outputs": [
    {
     "name": "stdout",
     "output_type": "stream",
     "text": [
      "Id:\n",
      "  54d907c84b1fd0d33c000008\n",
      "Question:\n",
      "  which molecule is targeted by a monoclonal antibody mepolizumab?\n",
      "Answers:\n",
      " * interleukin-5\n",
      "Predicted Answers:\n",
      " * ('imatinib mesylate', 0.96299136)\n",
      " * ('interleukin-5', 0.78903317)\n",
      " * ('mesylate', 0.69433331)\n",
      " * ('human interleukin-5', 0.53037494)\n",
      " * ('hyaluronan', 0.42750993)\n",
      "Mepolizumab, a humanized monoclonal antibody that binds to and inactivates interleukin-5, has been shown to reduce asthma exacerbations in patients with severe eosinophilic asthma.\n",
      " Patients were assigned to receive mepolizumab, a humanized monoclonal antibody against interleukin-5, which was administered as either a 75-mg intravenous dose or a 100-mg subcutaneous dose, or placebo every 4 weeks for 32 weeks. \n",
      "Among developing therapies, biologics designed to block certain pro-inflammatory cytoki\n",
      "\n"
     ]
    }
   ],
   "source": [
    "print_prediction(incorrect_predictions[16], rev_vocab, with_context=True)"
   ]
  },
  {
   "cell_type": "markdown",
   "metadata": {},
   "source": [
    "**Comment**: #1 seems to be a medication, not a molecule."
   ]
  },
  {
   "cell_type": "code",
   "execution_count": 43,
   "metadata": {
    "collapsed": true
   },
   "outputs": [],
   "source": [
    "WRONG_ANSWER_TYPE += 1\n",
    "WITHIN_TOP5 += 1"
   ]
  },
  {
   "cell_type": "code",
   "execution_count": 44,
   "metadata": {
    "collapsed": false
   },
   "outputs": [
    {
     "name": "stdout",
     "output_type": "stream",
     "text": [
      "Id:\n",
      "  54e0ace81388e8454a000010\n",
      "Question:\n",
      "  is apobec3b protein predominantly cytoplasmic or nuclear?\n",
      "Answers:\n",
      " *  nuclear\n",
      "Predicted Answers:\n",
      " * ('APOBEC3F', 0.99415153)\n",
      " * ('A3B', 0.97979856)\n",
      " * ('APOBEC3G', 0.95807534)\n",
      " * ('APOBEC3D', 0.92119557)\n",
      " * ('HIV-1Δvif', 0.78807753)\n",
      " * ('APOBEC3B', 0.66793799)\n",
      " * ('L1', 0.66602021)\n",
      " * ('predominantly nuclear', 0.58152843)\n",
      " * ('cytosine deaminase', 0.22714922)\n",
      " * ('HIV-1', 0.15293275)\n",
      "A3B is the only family member with steady-state nuclear localization\n",
      "Here, we show that A3B nuclear import is an active process requiring at least one amino acid (Val54) within an N-terminal motif analogous to the nuclear localization determinant of the antibody gene diversification enzyme AID (activation-induced cytosine deaminase)\n",
      "Our studies suggest that the present-day A3B enzyme retained the nuclear import mechanism of an ancestral AID protein during the expansion of the APOBEC3 locus in pr\n",
      "\n"
     ]
    }
   ],
   "source": [
    "print_prediction(incorrect_predictions[17], rev_vocab, 10, with_context=True)"
   ]
  },
  {
   "cell_type": "markdown",
   "metadata": {},
   "source": [
    "**Comment**: Completely misunderstands Multiple Choice question."
   ]
  },
  {
   "cell_type": "code",
   "execution_count": 45,
   "metadata": {
    "collapsed": true
   },
   "outputs": [],
   "source": [
    "MULTPLE_CHOICE += 1"
   ]
  },
  {
   "cell_type": "code",
   "execution_count": 46,
   "metadata": {
    "collapsed": false
   },
   "outputs": [
    {
     "name": "stdout",
     "output_type": "stream",
     "text": [
      "Id:\n",
      "  54e0d7471388e8454a000015\n",
      "Question:\n",
      "  which molecule is targeted by a monoclonal antibody secukinumab?\n",
      "Answers:\n",
      " * interleukin-17A\n",
      "Predicted Answers:\n",
      " * ('IL-17A', 0.98593789)\n",
      " * ('Ustekinumab', 0.97535199)\n",
      " * ('Th-17A', 0.87675321)\n",
      " * ('IL-17RA', 0.68372774)\n",
      " * ('IL-17', 0.62270576)\n",
      "\n"
     ]
    }
   ],
   "source": [
    "print_prediction(incorrect_predictions[18], rev_vocab)"
   ]
  },
  {
   "cell_type": "markdown",
   "metadata": {},
   "source": [
    "**Comment**: Should count as correct"
   ]
  },
  {
   "cell_type": "code",
   "execution_count": 47,
   "metadata": {
    "collapsed": true
   },
   "outputs": [],
   "source": [
    "SHOULD_COUNT_CORRECT += 1"
   ]
  },
  {
   "cell_type": "code",
   "execution_count": 48,
   "metadata": {
    "collapsed": false
   },
   "outputs": [
    {
     "name": "stdout",
     "output_type": "stream",
     "text": [
      "Id:\n",
      "  54fc91e96ad7dcbc12000001\n",
      "Question:\n",
      "  pbt2 has been tested for which disorder?\n",
      "Answers:\n",
      " * Alzheimer's disease\n",
      "Predicted Answers:\n",
      " * ('dementia', 0.94996768)\n",
      " * ('metal chaperones', 0.87829942)\n",
      " * (\"mild Alzheimer's dementia\", 0.83678919)\n",
      " * ('cognition', 0.83169907)\n",
      " * ('Metalloproteinase', 0.82517874)\n",
      "PBT2 improved cognition in a phase II clinical trial with AD patients, and further clinical testing is currently underway.\n",
      "In the second trial a successor compound, PBT2, was compared with placebo in 78 participants with mild Alzheimer's dementia; all were included in the intention-to-treat analysis. \n",
      "The second trial of PBT2 was more rigorously conducted and showed that after 12 weeks this compound appeared to be safe and well tolerated in people with mild Alzheimer's dementia. \n",
      "The purpose of this mini-review is to highlight the emerging notion that metal chaperones, such as PBT2 (Prana Biotechnology), modulate a variety of critical pathways affecting key aspects of the AD cascade to provide a more \"holistic\" approach to the treatment of this disease.\n",
      "The Alzheimer's therapeutic PBT2 promotes amyloid-β degradation and GSK3 phosphorylation via a metal chaperone activity.\n",
      "The leading compound in this class of therapeutic, PBT2, improved cognition in a clinical trial with AD patients. \n",
      "\n",
      "\n"
     ]
    }
   ],
   "source": [
    "print_prediction(incorrect_predictions[19], rev_vocab, with_context=True, context_char_limit=1000)"
   ]
  },
  {
   "cell_type": "markdown",
   "metadata": {},
   "source": [
    "**Comment**: #1 correct. #2 is of wrong type."
   ]
  },
  {
   "cell_type": "code",
   "execution_count": 49,
   "metadata": {
    "collapsed": true
   },
   "outputs": [],
   "source": [
    "SHOULD_COUNT_CORRECT += 1"
   ]
  },
  {
   "cell_type": "code",
   "execution_count": 50,
   "metadata": {
    "collapsed": false
   },
   "outputs": [
    {
     "name": "stdout",
     "output_type": "stream",
     "text": [
      "Id:\n",
      "  54fc99f36ad7dcbc12000004\n",
      "Question:\n",
      "  neurostimulation of which nucleus is used for treatment of dystonia?\n",
      "Answers:\n",
      " * globus pallidus internus\n",
      "Predicted Answers:\n",
      " * ('VIM', 0.98844457)\n",
      " * ('globus pallidus', 0.95753789)\n",
      " * ('ventral intermediate thalamic nucleus', 0.93566036)\n",
      " * ('globus pallidus internus', 0.86834794)\n",
      " * ('globus pallidus internus (GPi)', 0.77401483)\n",
      "Bilateral globus pallidus internus (GPi) DBS was performed in five SD patients and unilateral ventralis oralis anterior and posterior (Voa/Vop) nucleus of the thalamus DBS in two post-stroke hemiballismus patients. \n",
      "BACKGROUND: Deep brain stimulation of the internal pallidum (GPi-DBS) is effective for various types of drug-refractory primary dystonias. \n",
      "METHODS: In the parent trial, 40 patients were randomly assigned to either sham neurostimulation or neurostimulation of the internal globus pall\n",
      "\n"
     ]
    }
   ],
   "source": [
    "print_prediction(incorrect_predictions[20], rev_vocab, with_context=True)"
   ]
  },
  {
   "cell_type": "markdown",
   "metadata": {},
   "source": [
    "**Comment**: #1 is correct, see ideal answer:\n",
    "\n",
    "\"Neurostimulation of globus pallidus internus is effective for treatment of dystonia. Ventral intermediate thalamic nucleus has also been tested for neurostimulation in dystonia patients.\""
   ]
  },
  {
   "cell_type": "code",
   "execution_count": 51,
   "metadata": {
    "collapsed": true
   },
   "outputs": [],
   "source": [
    "SHOULD_COUNT_CORRECT += 1"
   ]
  },
  {
   "cell_type": "code",
   "execution_count": 52,
   "metadata": {
    "collapsed": false
   },
   "outputs": [
    {
     "name": "stdout",
     "output_type": "stream",
     "text": [
      "Id:\n",
      "  54ff45966ad7dcbc12000010\n",
      "Question:\n",
      "  which protein is causing netherton syndrome?\n",
      "Answers:\n",
      " * LEKTI\n",
      " * lymphoepithelial Kazal type-related inhibitor\n",
      "Predicted Answers:\n",
      " * ('SPINK5', 0.97955918)\n",
      " * ('Kazal-type inhibitor LEKTI-1 \\nNetherton syndrome (NS)', 0.96757883)\n",
      " * ('serine protease', 0.94285423)\n",
      " * ('gene SPINK5 (serine protease inhibitor Kazal type 5) which encodes for a serine protease inhibitor LEKTI (lymphoepithelial Kazal type-related inhibitor)\\nMutations in the serine protease inhibitor Kazal type 5 (SPINK5)', 0.89891535)\n",
      " * ('Kazal-type 5', 0.85271835)\n",
      "Netherton syndrome (NTS) is a rare genetic skin disease caused by mutations in the serine protease inhibitor Kazal-type 5 gene, which encodes the lympho-epithelial Kazal-type-related inhibitor.\n",
      "Netherton syndrome is caused by loss-of-function mutations in SPINK5 encoding the Kazal-type inhibitor LEKTI-1 \n",
      "Netherton syndrome (NS) is a serious inherited skin disorder caused by mutations in the gene SPINK5 (serine protease inhibitor Kazal type 5) which encodes for a serine protease inhibitor LEKTI (\n",
      "\n"
     ]
    }
   ],
   "source": [
    "print_prediction(incorrect_predictions[21], rev_vocab, with_context=True)"
   ]
  },
  {
   "cell_type": "markdown",
   "metadata": {},
   "source": [
    "**Comment**: Gene vs Protein type mismatch. Also, not how #1 goes across snippet boundaries."
   ]
  },
  {
   "cell_type": "code",
   "execution_count": 53,
   "metadata": {
    "collapsed": true
   },
   "outputs": [],
   "source": [
    "WRONG_ANSWER_TYPE += 1"
   ]
  },
  {
   "cell_type": "code",
   "execution_count": 54,
   "metadata": {
    "collapsed": false
   },
   "outputs": [
    {
     "name": "stdout",
     "output_type": "stream",
     "text": [
      "Id:\n",
      "  5505a587f73303d458000005\n",
      "Question:\n",
      "  what does mtor stands for?\n",
      "Answers:\n",
      " * mammalian target of rapamycin\n",
      "Predicted Answers:\n",
      " * ('rapamycin', 0.99975544)\n",
      " * ('mammalian target of rapamycin', 0.81508398)\n",
      " * ('Rapamycin (mTOR)\\n mammalian target of rapamycin', 0.69096982)\n",
      " * ('', 0.34639639)\n",
      " * ('mammalian Target', 0.28946447)\n",
      " mammalian target of rapamycin (mTOR)\n",
      "mammalian target of rapamycin (mTOR)\n",
      "mammalian target or rapamycin (mTOR)\n",
      "mammalian target of rapamycin (mTOR) \n",
      " mammal target of rapamycin (mTOR)\n",
      "mammalian Target of Rapamycin (mTOR)\n",
      " mammalian target of rapamycin (mTOR) \n",
      "\n"
     ]
    }
   ],
   "source": [
    "print_prediction(incorrect_predictions[22], rev_vocab, with_context=True)"
   ]
  },
  {
   "cell_type": "markdown",
   "metadata": {},
   "source": [
    "**Comment**: Linguistically a good answer, doesn't know how abbriviations work."
   ]
  },
  {
   "cell_type": "code",
   "execution_count": 56,
   "metadata": {
    "collapsed": false
   },
   "outputs": [],
   "source": [
    "WITHIN_TOP5 += 1"
   ]
  },
  {
   "cell_type": "code",
   "execution_count": 57,
   "metadata": {
    "collapsed": false
   },
   "outputs": [
    {
     "name": "stdout",
     "output_type": "stream",
     "text": [
      "Id:\n",
      "  5505edac8e1671127b000005\n",
      "Question:\n",
      "  what kind of chromatography is hilic?\n",
      "Answers:\n",
      " * Hydrophilic Interaction Chromatography\n",
      "Predicted Answers:\n",
      " * ('method\\nHydrophilic-interaction liquid chromatography', 0.98257303)\n",
      " * ('Hydrophilic-interaction liquid chromatography', 0.93249476)\n",
      " * ('hydrophilic interaction liquid chromatography-tandem mass spectrometry', 0.93092299)\n",
      " * ('hydrophilic interaction chromatographic', 0.85510588)\n",
      " * ('liquid chromatography-tandem mass spectrometry', 0.78200394)\n",
      "hydrophilic interaction liquid chromatography-tandem mass spectrometry (HILIC LC-MS/MS) method\n",
      "Hydrophilic-interaction liquid chromatography (HILIC) is a widely used technique for small polar molecule analysis \n",
      "hydrophilic-interaction LC (HILIC)\n",
      "A hydrophilic interaction liquid chromatography-tandem mass spectrometry (HILIC LC-MS/MS) method \n",
      "Hydrophilic Interaction Chromatography (HILIC) \n",
      "n this study a hydrophilic interaction chromatographic (HILIC) method \n",
      "\n"
     ]
    }
   ],
   "source": [
    "print_prediction(incorrect_predictions[23], rev_vocab, with_context=True)"
   ]
  },
  {
   "cell_type": "markdown",
   "metadata": {},
   "source": [
    "**Comment**: Accross Snippet Boundaries, #2 should count correct"
   ]
  },
  {
   "cell_type": "code",
   "execution_count": 58,
   "metadata": {
    "collapsed": true
   },
   "outputs": [],
   "source": [
    "WITHIN_TOP5 += 1"
   ]
  },
  {
   "cell_type": "code",
   "execution_count": 59,
   "metadata": {
    "collapsed": false
   },
   "outputs": [
    {
     "name": "stdout",
     "output_type": "stream",
     "text": [
      "Id:\n",
      "  552421082c8b63434a000005\n",
      "Question:\n",
      "  what is the enzymatic activity of the breast cancer associated gene brca1?\n",
      "Answers:\n",
      " * E3 ubiquitin ligase activity\n",
      "Predicted Answers:\n",
      " * ('BARD1', 0.99311352)\n",
      " * ('cancerous transformation', 0.97649133)\n",
      " * ('BRCA1', 0.97149432)\n",
      " * ('ovarian', 0.87703359)\n",
      " * ('tumor suppression', 0.82016599)\n",
      " * ('gammaH2AX', 0.80888963)\n",
      " * ('BARD1 complexes', 0.78451204)\n",
      " * ('E3-ubiquitin ligase', 0.76340371)\n",
      " * ('FANCD2', 0.74990487)\n",
      " * ('E3 ubiquitin ligase', 0.74150884)\n",
      "E3-ubiquitin ligase activity is the only known enzymatic activity of BRCA1, which is mediated by the N-terminal RING finger domain.\n",
      "BRCA1 nuclear transport and ubiquitin E3 ligase enzymatic activity are tightly regulated by the BRCA1 dimeric binding partner BARD1 and further modulated by cancer mutations and diverse signaling pathways.\n",
      "E3 ligase activity of BRCA1 is not essential for mammalian cell viability or homology-directed repair of double-strand DNA breaks.\n",
      "The protein encoded by BRCA1 in\n",
      "\n"
     ]
    }
   ],
   "source": [
    "print_prediction(incorrect_predictions[24], rev_vocab, 10, with_context=True)"
   ]
  },
  {
   "cell_type": "markdown",
   "metadata": {},
   "source": [
    "**Comment**: Wrong answer type: enzymatic activity vs Protein."
   ]
  },
  {
   "cell_type": "code",
   "execution_count": 60,
   "metadata": {
    "collapsed": true
   },
   "outputs": [],
   "source": [
    "WRONG_ANSWER_TYPE += 1"
   ]
  },
  {
   "cell_type": "code",
   "execution_count": 61,
   "metadata": {
    "collapsed": false,
    "scrolled": false
   },
   "outputs": [
    {
     "name": "stdout",
     "output_type": "stream",
     "text": [
      "Id:\n",
      "  55242d512c8b63434a000006\n",
      "Question:\n",
      "  which receptors can be evaluated with the [18f]altanserin?\n",
      "Answers:\n",
      " * 5-HT2A\n",
      "Predicted Answers:\n",
      " * ('5-hydroxytryptamine type 2a (5-HT(2A)', 0.85705882)\n",
      " * ('radioligands', 0.38655263)\n",
      " * ('ketanserin, was reported to be a potent antagonist of 5-HT2A receptors with >100-fold selectivity over D2/3 receptors, 5-HT1A, 5-HT6, and 5-HT7 (9, 10). This led to the development of 3-{2-[4-(4-[(18)F]fluorobenzoyl)-1-piperidyl]ethyl}-2-sulfanyl-3H-quinazolin-4-one ([(18)F]altanserin) as a useful tool for 5-HT2A receptor PET imaging in vivo (11). \\nAltanserin, a fluorobenzoyl derivative related to ketanserin, was reported to be a potent antagonist of 5-HT2A receptors with >100-fold selectivity over D2/3 receptors, 5-HT1A, 5-HT6, and 5-HT7 (9, 10). This led to the development of 3-{2-[4-(4-[(18)F]fluorobenzoyl)-1-piperidyl]ethyl}-2-sulfanyl-3H-quinazolin-4-one ([(18)F]altanserin) as a useful tool for 5-HT2A receptor PET imaging in vivo (11). 5-HT2A antagonists bind to the total pool of receptors, whereas 5-HT2A agonists bind only to the high-affinity functional state of the receptor but may be more important in disease states because the high affinity sites are the ones that transmit the intracellular signals. \\nBaseline and follow-up partial volume corrected levels of 5-HT2A in four neocortical lobes and the posterior cingulate gyrus were investigated using [18F]altanserin positron emission tomography with a bolus-infusion approach.\\nAltanserin, a fluorobenzoyl derivative related to ketanserin', 0.32384631)\n",
      " * ('ketanserin', 0.29137152)\n",
      " * ('pig brain', 0.28305036)\n",
      "\n"
     ]
    }
   ],
   "source": [
    "print_prediction(incorrect_predictions[25], rev_vocab)"
   ]
  },
  {
   "cell_type": "markdown",
   "metadata": {},
   "source": [
    "**Comment**: Almost Correct (missing closing parenthesis)"
   ]
  },
  {
   "cell_type": "code",
   "execution_count": 62,
   "metadata": {
    "collapsed": true
   },
   "outputs": [],
   "source": [
    "SOMEWHAT_CORRECT += 1"
   ]
  },
  {
   "cell_type": "code",
   "execution_count": 63,
   "metadata": {
    "collapsed": false
   },
   "outputs": [
    {
     "name": "stdout",
     "output_type": "stream",
     "text": [
      "Id:\n",
      "  553ca8d8f32186855800000d\n",
      "Question:\n",
      "  what is the effect of the absence of saccharomyces cerevisiae rrm3p?\n",
      "Answers:\n",
      " * Lack of the yeast Rrm3p DNA helicase causes replication defects at multiple sites within ribosomal DNA (rDNA), including at the replication fork barrier (RFB).\n",
      "Predicted Answers:\n",
      " * ('increased fork stalling', 0.99414116)\n",
      " * ('Pfh1p', 0.98708242)\n",
      " * ('greatly exacerbated', 0.80157542)\n",
      " * ('breakage', 0.76528728)\n",
      " * ('RRM3', 0.74765611)\n",
      "Twice as many pause sites were identified in rrm3 compared with wild-type cells, as pausing in this strain occurred at both highly transcribed RNA polymerase II genes and the previously identified protein DNA complexes. ORFs of highly transcribed RNA polymerase II genes are a class of natural pause sites that are not exacerbated in rrm3 cells\n",
      "The DNA helicase Rrm3 promotes replication fork progression through >1000 discrete genomic regions and represses the cDNA-mediated mobility of the Ty1 retrotransposon. We explored the connection between DNA replication and Ty1 retromobility by investigating the basis of increased retromobility in an rrm3 mutant. Even though Ty1 cDNA levels are increased in the absence of RRM3, neither the level nor target-site specificity of cDNA integration was altered\n",
      "We propose that RNA:DNA hybrid regions within nascent retrotransposition events block replication in an rrm3 mutant, leading to chromosome breaks within Ty1 sequences\n",
      "We demonstrate that the inefficient mtDNA replication process of mutant yeast cells lacking the PIF1 DNA helicase is partly rescued in the absence of the DNA helicase RRM3. The rescue effect is likely due to the increase in the deoxynucleoside triphosphates (dNTPs) pool caused by the lack of RRM3\n",
      " However, the essential nuclear function of Pfh1p could be supplied by Rrm3p. Expression of Rrm3p suppressed the accumulation of DNA damage foci but not the hydroxyurea sensitivity of cells depleted of nuclear Pfh1p. Together, these data demonstrate that Pfh1p has essential roles in the replication of both nuclear and mitochondrial DNA\n",
      " In the absence of the Rrm3p helicase, there was a slight enhancement of fork arrest at the Ter sites. Simultaneous deletions of the TOF1 (or CSM3), and the RRM3 genes restored fork arrest by removing both the fork-releasing and fork-protection activities\n",
      "Rrm3p is a 5'-to-3' DNA helicase that helps replication forks traverse protein-DNA complexes. Its absence leads to increased fork stalling and breakage at over 1,000 specific sites located throughout the Saccharomyces cerevisiae genome\n",
      "These data suggest a model in which the stalled and broken forks generated in rrm3 cells activate a checkpoint response that provides time for fork repair and restart\n",
      "Lack of the yeast Rrm3p DNA helicase causes replication defects at multiple sites within ribosomal DNA (rDNA), including at the replication fork barrier (RFB)\n",
      "The Saccharomyces cerevisiae RRM3 gene encodes a 5' to 3' DNA helicase. While replication of most of the yeast genome was not dependent upon Rrm3p, in its absence, replication forks paused and often broke at an estimated 1400 discrete sites, including tRNA genes, centromeres, inactive replication origins, and transcriptional silencers. These replication defects were associated with activation of the intra-S phase checkpoint. Activation of the checkpoint was critical for viability of rrm3Delta cells, especially at low temperatures\n",
      "These data indicate that the Rrm3p DNA helicase helps replication forks traverse protein-DNA complexes, naturally occurring impediments that are encountered in each S phase\n",
      "In wild-type Saccharomyces cerevisiae, replication forks slowed during their passage through telomeric C(1-3)A/TG(1-3) tracts. This slowing was greatly exacerbated in the absence of RRM3, shown here to encode a 5' to 3' DNA helicase\n",
      " Loss of Rrm3p also resulted in replication fork pausing at specific sites in subtelomeric DNA, such as at inactive replication origins, and at internal tracts of C(1-3)A/TG(1-3) DNA\n",
      "Local chromatin structure at the ribosomal DNA causes replication fork pausing and genome instability in the absence of the S. cerevisiae DNA helicase Rrm3p.\n",
      "\n"
     ]
    }
   ],
   "source": [
    "print_prediction(incorrect_predictions[26], rev_vocab, with_context=True, context_char_limit=100000)"
   ]
  },
  {
   "cell_type": "markdown",
   "metadata": {},
   "source": [
    "**Comment**: #1 likely correct. From Context:\n",
    "\n",
    "\"Rrm3p is a 5'-to-3' DNA helicase that helps replication forks traverse protein-DNA complexes. Its absence leads to increased fork stalling and breakage at over 1,000 specific sites located throughout the Saccharomyces cerevisiae genome\""
   ]
  },
  {
   "cell_type": "code",
   "execution_count": 64,
   "metadata": {
    "collapsed": true
   },
   "outputs": [],
   "source": [
    "SOMEWHAT_CORRECT += 1"
   ]
  },
  {
   "cell_type": "markdown",
   "metadata": {},
   "source": [
    "# Summary"
   ]
  },
  {
   "cell_type": "markdown",
   "metadata": {},
   "source": [
    "Total Predictions:"
   ]
  },
  {
   "cell_type": "code",
   "execution_count": 65,
   "metadata": {
    "collapsed": false
   },
   "outputs": [
    {
     "data": {
      "text/plain": [
       "43"
      ]
     },
     "execution_count": 65,
     "metadata": {},
     "output_type": "execute_result"
    }
   ],
   "source": [
    "len(predictions)"
   ]
  },
  {
   "cell_type": "markdown",
   "metadata": {},
   "source": [
    "Correct or should count correct:"
   ]
  },
  {
   "cell_type": "code",
   "execution_count": 66,
   "metadata": {
    "collapsed": false
   },
   "outputs": [
    {
     "data": {
      "text/plain": [
       "24"
      ]
     },
     "execution_count": 66,
     "metadata": {},
     "output_type": "execute_result"
    }
   ],
   "source": [
    "(len(predictions) - len(incorrect_predictions)) + SHOULD_COUNT_CORRECT"
   ]
  },
  {
   "cell_type": "markdown",
   "metadata": {},
   "source": [
    "Somewhat correct:"
   ]
  },
  {
   "cell_type": "code",
   "execution_count": 67,
   "metadata": {
    "collapsed": false
   },
   "outputs": [
    {
     "data": {
      "text/plain": [
       "5"
      ]
     },
     "execution_count": 67,
     "metadata": {},
     "output_type": "execute_result"
    }
   ],
   "source": [
    "SOMEWHAT_CORRECT"
   ]
  },
  {
   "cell_type": "markdown",
   "metadata": {},
   "source": [
    "Clearly incorrect:"
   ]
  },
  {
   "cell_type": "code",
   "execution_count": 68,
   "metadata": {
    "collapsed": false
   },
   "outputs": [
    {
     "data": {
      "text/plain": [
       "14"
      ]
     },
     "execution_count": 68,
     "metadata": {},
     "output_type": "execute_result"
    }
   ],
   "source": [
    "len(incorrect_predictions) - SHOULD_COUNT_CORRECT - SOMEWHAT_CORRECT"
   ]
  },
  {
   "cell_type": "markdown",
   "metadata": {},
   "source": [
    "Only somewhat correct or incorrect, but correct answer is within top5:"
   ]
  },
  {
   "cell_type": "code",
   "execution_count": 69,
   "metadata": {
    "collapsed": false
   },
   "outputs": [
    {
     "data": {
      "text/plain": [
       "12"
      ]
     },
     "execution_count": 69,
     "metadata": {},
     "output_type": "execute_result"
    }
   ],
   "source": [
    "WITHIN_TOP5"
   ]
  },
  {
   "cell_type": "markdown",
   "metadata": {},
   "source": [
    "Top Answer Type is wrong:"
   ]
  },
  {
   "cell_type": "code",
   "execution_count": 70,
   "metadata": {
    "collapsed": false
   },
   "outputs": [
    {
     "data": {
      "text/plain": [
       "9"
      ]
     },
     "execution_count": 70,
     "metadata": {},
     "output_type": "execute_result"
    }
   ],
   "source": [
    "WRONG_ANSWER_TYPE"
   ]
  },
  {
   "cell_type": "markdown",
   "metadata": {},
   "source": [
    "System failed to recognize multiple choice questions:"
   ]
  },
  {
   "cell_type": "code",
   "execution_count": 71,
   "metadata": {
    "collapsed": false
   },
   "outputs": [
    {
     "data": {
      "text/plain": [
       "3"
      ]
     },
     "execution_count": 71,
     "metadata": {},
     "output_type": "execute_result"
    }
   ],
   "source": [
    "MULTPLE_CHOICE"
   ]
  },
  {
   "cell_type": "markdown",
   "metadata": {},
   "source": [
    "# "
   ]
  }
 ],
 "metadata": {
  "kernelspec": {
   "display_name": "Python 3",
   "language": "python",
   "name": "python3"
  },
  "language_info": {
   "codemirror_mode": {
    "name": "ipython",
    "version": 3
   },
   "file_extension": ".py",
   "mimetype": "text/x-python",
   "name": "python",
   "nbconvert_exporter": "python",
   "pygments_lexer": "ipython3",
   "version": "3.6.4"
  }
 },
 "nbformat": 4,
 "nbformat_minor": 2
}
