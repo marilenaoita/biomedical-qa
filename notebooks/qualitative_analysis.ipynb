{
 "cells": [
  {
   "cell_type": "code",
   "execution_count": 1,
   "metadata": {
    "collapsed": false
   },
   "outputs": [
    {
     "ename": "ModuleNotFoundError",
     "evalue": "No module named 'matplotlib'",
     "output_type": "error",
     "traceback": [
      "\u001b[0;31m---------------------------------------------------------------------------\u001b[0m",
      "\u001b[0;31mModuleNotFoundError\u001b[0m                       Traceback (most recent call last)",
      "\u001b[0;32m<ipython-input-1-f6bb55e283cf>\u001b[0m in \u001b[0;36m<module>\u001b[0;34m\u001b[0m\n\u001b[1;32m      2\u001b[0m \u001b[0;32mimport\u001b[0m \u001b[0mtensorflow\u001b[0m \u001b[0;32mas\u001b[0m \u001b[0mtf\u001b[0m\u001b[0;34m\u001b[0m\u001b[0;34m\u001b[0m\u001b[0m\n\u001b[1;32m      3\u001b[0m \u001b[0;34m\u001b[0m\u001b[0m\n\u001b[0;32m----> 4\u001b[0;31m \u001b[0;32mfrom\u001b[0m \u001b[0mutil\u001b[0m \u001b[0;32mimport\u001b[0m \u001b[0;34m*\u001b[0m\u001b[0;34m\u001b[0m\u001b[0;34m\u001b[0m\u001b[0m\n\u001b[0m\u001b[1;32m      5\u001b[0m \u001b[0;32mfrom\u001b[0m \u001b[0mbiomedical_qa\u001b[0m\u001b[0;34m.\u001b[0m\u001b[0minference\u001b[0m\u001b[0;34m.\u001b[0m\u001b[0minference\u001b[0m \u001b[0;32mimport\u001b[0m \u001b[0mInferrer\u001b[0m\u001b[0;34m,\u001b[0m \u001b[0mget_model\u001b[0m\u001b[0;34m\u001b[0m\u001b[0;34m\u001b[0m\u001b[0m\n\u001b[1;32m      6\u001b[0m \u001b[0;32mfrom\u001b[0m \u001b[0mbiomedical_qa\u001b[0m\u001b[0;34m.\u001b[0m\u001b[0minference\u001b[0m\u001b[0;34m.\u001b[0m\u001b[0mpostprocessing\u001b[0m \u001b[0;32mimport\u001b[0m \u001b[0mDeduplicatePostprocessor\u001b[0m\u001b[0;34m,\u001b[0m \u001b[0mProbabilityThresholdPostprocessor\u001b[0m\u001b[0;34m,\u001b[0m \u001b[0mTopKPostprocessor\u001b[0m\u001b[0;34m\u001b[0m\u001b[0;34m\u001b[0m\u001b[0m\n",
      "\u001b[0;32m~/workspace/biomedical-qa/notebooks/util.py\u001b[0m in \u001b[0;36m<module>\u001b[0;34m\u001b[0m\n\u001b[1;32m      2\u001b[0m \u001b[0;34m\u001b[0m\u001b[0m\n\u001b[1;32m      3\u001b[0m \u001b[0;32mimport\u001b[0m \u001b[0mnumpy\u001b[0m \u001b[0;32mas\u001b[0m \u001b[0mnp\u001b[0m\u001b[0;34m\u001b[0m\u001b[0;34m\u001b[0m\u001b[0m\n\u001b[0;32m----> 4\u001b[0;31m \u001b[0;32mimport\u001b[0m \u001b[0mmatplotlib\u001b[0m\u001b[0;34m.\u001b[0m\u001b[0mpyplot\u001b[0m \u001b[0;32mas\u001b[0m \u001b[0mplt\u001b[0m\u001b[0;34m\u001b[0m\u001b[0;34m\u001b[0m\u001b[0m\n\u001b[0m\u001b[1;32m      5\u001b[0m \u001b[0;34m\u001b[0m\u001b[0m\n\u001b[1;32m      6\u001b[0m \u001b[0;32mdef\u001b[0m \u001b[0mremove_negative_outliers\u001b[0m\u001b[0;34m(\u001b[0m\u001b[0mscores\u001b[0m\u001b[0;34m,\u001b[0m \u001b[0mthreshold\u001b[0m\u001b[0;34m=\u001b[0m\u001b[0;34m-\u001b[0m\u001b[0;36m500\u001b[0m\u001b[0;34m)\u001b[0m\u001b[0;34m:\u001b[0m\u001b[0;34m\u001b[0m\u001b[0;34m\u001b[0m\u001b[0m\n",
      "\u001b[0;31mModuleNotFoundError\u001b[0m: No module named 'matplotlib'"
     ]
    }
   ],
   "source": [
    "import pickle\n",
    "import tensorflow as tf\n",
    "\n",
    "from util import *\n",
    "from biomedical_qa.inference.inference import Inferrer, get_model\n",
    "from biomedical_qa.inference.postprocessing import DeduplicatePostprocessor, ProbabilityThresholdPostprocessor, TopKPostprocessor\n",
    "from biomedical_qa.sampling.bioasq import BioAsqSampler\n",
    "\n",
    "import matplotlib.pyplot as plt\n",
    "%pylab inline\n",
    "pylab.rcParams['figure.figsize'] = (10, 6)"
   ]
  },
  {
   "cell_type": "code",
   "execution_count": 2,
   "metadata": {},
   "outputs": [],
   "source": [
    "import os\n",
    "os.environ[\"CUDA_DEVICE_ORDER\"]= \"PCI_BUS_ID\"\n",
    "os.environ[\"CUDA_VISIBLE_DEVICES\"]=\"1\""
   ]
  },
  {
   "cell_type": "code",
   "execution_count": 4,
   "metadata": {},
   "outputs": [
    {
     "data": {
      "text/plain": [
       "''"
      ]
     },
     "execution_count": 4,
     "metadata": {},
     "output_type": "execute_result"
    }
   ],
   "source": [
    "tf.test.gpu_device_name()"
   ]
  },
  {
   "cell_type": "code",
   "execution_count": 3,
   "metadata": {},
   "outputs": [
    {
     "data": {
      "text/plain": [
       "[name: \"/device:CPU:0\"\n",
       " device_type: \"CPU\"\n",
       " memory_limit: 268435456\n",
       " locality {\n",
       " }\n",
       " incarnation: 6753831379374546630, name: \"/device:XLA_CPU:0\"\n",
       " device_type: \"XLA_CPU\"\n",
       " memory_limit: 17179869184\n",
       " locality {\n",
       " }\n",
       " incarnation: 1852587920859910418\n",
       " physical_device_desc: \"device: XLA_CPU device\"]"
      ]
     },
     "execution_count": 3,
     "metadata": {},
     "output_type": "execute_result"
    }
   ],
   "source": [
    "from tensorflow.python.client import device_lib\n",
    "device_lib.list_local_devices()"
   ]
  },
  {
   "cell_type": "code",
   "execution_count": 2,
   "metadata": {
    "collapsed": false
   },
   "outputs": [
    {
     "name": "stdout",
     "output_type": "stream",
     "text": [
      "Loading Model: ../model_checkpoints/challenge2/BioASQ_4b_all_5fold_differentsquad/fold_4/config.pickle\n",
      "Using weights: ../model_checkpoints/challenge2/BioASQ_4b_all_5fold_differentsquad/fold_4/final_model.tf\n",
      "Restoring Weights...\n",
      "INFO:tensorflow:Restoring parameters from ../model_checkpoints/challenge2/BioASQ_4b_all_5fold_differentsquad/fold_4/final_model.tf\n"
     ]
    }
   ],
   "source": [
    "CONFIG = \"../model_checkpoints/challenge2/BioASQ_4b_all_5fold_differentsquad/fold_4/config.pickle\"\n",
    "\n",
    "sess = tf.InteractiveSession()\n",
    "model = get_model(sess, CONFIG, [\"cpu:0\"])\n",
    "inferrer = Inferrer(model, sess, beam_size=20)"
   ]
  },
  {
   "cell_type": "code",
   "execution_count": 3,
   "metadata": {
    "collapsed": true
   },
   "outputs": [],
   "source": [
    "vocab = inferrer.models[0].embedder.vocab\n",
    "rev_vocab = [\"\"] * len(vocab)\n",
    "for w, i in vocab.items():\n",
    "    rev_vocab[i] = w"
   ]
  },
  {
   "cell_type": "markdown",
   "metadata": {},
   "source": [
    "# Prepare Data"
   ]
  },
  {
   "cell_type": "code",
   "execution_count": 4,
   "metadata": {
    "collapsed": false
   },
   "outputs": [],
   "source": [
    "sampler = BioAsqSampler(\"../data/BioASQ-TaskB-testData-enriched2\", [\"phaseB_4b_05.json\"], 16,\n",
    "                        vocab=vocab, shuffle=False, types=[\"factoid\", \"list\"],\n",
    "                        include_answer_spans=False)"
   ]
  },
  {
   "cell_type": "code",
   "execution_count": 5,
   "metadata": {
    "collapsed": false
   },
   "outputs": [],
   "source": [
    "factoid_questions = [q for q in sampler.get_questions() if q.q_type == \"factoid\"]\n",
    "list_questions = [q for q in sampler.get_questions() if q.q_type == \"list\"]"
   ]
  },
  {
   "cell_type": "code",
   "execution_count": 6,
   "metadata": {
    "collapsed": false
   },
   "outputs": [
    {
     "name": "stdout",
     "output_type": "stream",
     "text": [
      "33 20\n"
     ]
    }
   ],
   "source": [
    "factoid_ids = sorted([q.id for q in factoid_questions])\n",
    "list_ids = sorted([q.id for q in list_questions])\n",
    "print(len(factoid_ids), len(list_ids))"
   ]
  },
  {
   "cell_type": "markdown",
   "metadata": {},
   "source": [
    "# Run Model"
   ]
  },
  {
   "cell_type": "code",
   "execution_count": 7,
   "metadata": {
    "collapsed": true
   },
   "outputs": [],
   "source": [
    "predictions = inferrer.get_predictions(sampler)"
   ]
  },
  {
   "cell_type": "code",
   "execution_count": 8,
   "metadata": {
    "collapsed": true
   },
   "outputs": [],
   "source": [
    "factoid_postprocessor = DeduplicatePostprocessor().chain(TopKPostprocessor(5))\n",
    "list_postprocessor = DeduplicatePostprocessor().chain(ProbabilityThresholdPostprocessor(0.05))"
   ]
  },
  {
   "cell_type": "markdown",
   "metadata": {},
   "source": [
    "# Factoid Analysis"
   ]
  },
  {
   "cell_type": "code",
   "execution_count": 9,
   "metadata": {
    "collapsed": true
   },
   "outputs": [],
   "source": [
    "CORRECT = 0\n",
    "# Answer is written differently, but 100% correct\n",
    "SHOULD_COUNT_CORRECT = 0\n",
    "# Answer is probably correct (according to my understanding) or very close to a correct answer\n",
    "SOMEWHAT_CORRECT = 0\n",
    "# Answer candidates were given in the question, but the system failed to output one of the options\n",
    "MULTPLE_CHOICE = 0\n",
    "# The correct answer is within the top 5\n",
    "WITHIN_TOP5 = 0\n",
    "# Answer type of the top answer is wrong\n",
    "WRONG_ANSWER_TYPE = 0\n",
    "LONG_ANSWER = 0\n",
    "NOT_EXTRACTABLE = 0"
   ]
  },
  {
   "cell_type": "code",
   "execution_count": 10,
   "metadata": {
    "collapsed": false
   },
   "outputs": [
    {
     "name": "stdout",
     "output_type": "stream",
     "text": [
      "Id:\n",
      "  56c1f039ef6e394741000052\n",
      "Question:\n",
      "  which antibody is implicated in the bickerstaff's brainstem encephalitis?\n",
      "Answers:\n",
      " * antiganglioside antibody\n",
      "Predicted Answers:\n",
      " * ('BBE', 0.049558859)\n",
      " * ('Fisher', 0.048204634)\n",
      " * ('anti-GQ1b', 0.04242089)\n",
      " * ('anti-GQ1b antibody syndrome', 0.040380526)\n",
      " * ('Fisher syndrome', 0.026518978)\n",
      "In addition, BBE and Fisher syndrome, which are clinically similar and are both associated with the presence of the immunoglobulin G anti-GQ1b antibody, represent a specific autoimmune disease with a wide spectrum of symptoms that include ophthalmoplegia and ataxia.\n",
      "The syndrome defined by Bickerstaff of progressive, external ophthalmoplegia and ataxia, with disturbance of consciousness or hyperreflexia, has subsequently been associated with anti-GQ1b antibodies.\n",
      "An anti-GQ1b antibody syndrome h\n",
      "\n"
     ]
    }
   ],
   "source": [
    "print_prediction(predictions[factoid_ids[0]], rev_vocab, factoid_postprocessor, with_context=True)"
   ]
  },
  {
   "cell_type": "code",
   "execution_count": 11,
   "metadata": {
    "collapsed": false
   },
   "outputs": [],
   "source": [
    "NOT_EXTRACTABLE += 1\n",
    "WITHIN_TOP5 += 1"
   ]
  },
  {
   "cell_type": "code",
   "execution_count": 86,
   "metadata": {
    "collapsed": false
   },
   "outputs": [
    {
     "name": "stdout",
     "output_type": "stream",
     "text": [
      "Id:\n",
      "  56c1f03bef6e394741000053\n",
      "Question:\n",
      "  mutation of which gene is implicated in the brain-lung-thyroid syndrome?\n",
      "Answers:\n",
      " * thyroid transcription factor 1\n",
      "Predicted Answers:\n",
      " * ('NKX2-1', 0.12829573)\n",
      " * ('neonatal respiratory distress syndrome', 0.064094439)\n",
      " * ('Thyroid transcription factor 1 (NKX2-1/TITF1) mutations cause brain-lung-thyroid syndrome, characterized by congenital hypothyroidism (CH), infant respiratory distress syndrome (IRDS) and benign hereditary chorea (BHC). \\nThe clinical spectrum of 6 own and 40 published patients with NKX2-1 mutations ranged from the complete triad of brain-lung-thyroid syndrome (50%), brain and thyroid disease (30%), to isolated BHC (13%). \\nBACKGROUND: NKX2.1 mutations have been identified in patients displaying complete or partial brain-lung-thyroid syndrome, which can include benign hereditary chorea (BHC), hypothyroidism and/or lung disease. \\nBrain-lung-thyroid syndrome', 0.03243861)\n",
      " * ('', 0.028306119)\n",
      " * ('NKX2', 0.021967236)\n",
      " The disorder is caused by mutations to the NKX2.1 (TITF1) gene and also forms part of the \"brain-lung-thyroid syndrome\", in which additional developmental abnormalities of lung and thyroid tissue are observed. \n",
      "Novel NKX2-1 Frameshift Mutations in Patients with Atypical Phenotypes of the Brain-Lung-Thyroid Syndrome.\n",
      "OBJECTIVES: To verify the involvement of NKX2-1 gene in infants with brain-lung-thyroid (BLT) syndrome and hypothyroid phenotypes variable among congenital hypothyroidism (CH) or id\n",
      "\n"
     ]
    }
   ],
   "source": [
    "print_prediction(predictions[factoid_ids[1]], rev_vocab, factoid_postprocessor, with_context=True)"
   ]
  },
  {
   "cell_type": "code",
   "execution_count": 13,
   "metadata": {
    "collapsed": true
   },
   "outputs": [],
   "source": [
    "SHOULD_COUNT_CORRECT += 1\n",
    "WITHIN_TOP5 += 1"
   ]
  },
  {
   "cell_type": "code",
   "execution_count": 14,
   "metadata": {
    "collapsed": false
   },
   "outputs": [
    {
     "name": "stdout",
     "output_type": "stream",
     "text": [
      "Id:\n",
      "  56c1f040ef6e394741000055\n",
      "Question:\n",
      "  which antibodies cause riedel thyroiditis?\n",
      "Answers:\n",
      " * IgG4\n",
      "Predicted Answers:\n",
      " * ('IgG4 thyroiditis', 0.31130823)\n",
      " * ('IgG4', 0.26839805)\n",
      " * ('Increased lymphangiogenesis', 0.13762234)\n",
      " * ('Immunoglobulin G4-related thyroid disease', 0.028562335)\n",
      " * ('IgG4RD', 0.021752631)\n",
      "LEARNING POINTS: There are potential clinical applications of identifying subsets of patients with IgG4 thyroiditis (FVHT and Riedel thyroiditis).\n",
      "The importance of IgG4 in the predictive model of thyroiditis.\n",
      "Increased lymphangiogenesis in Riedel thyroiditis (Immunoglobulin G4-related thyroid disease).\n",
      "The present study describes in depth a case of Riedel thyroiditis (RT) to clarify its pathogenesis and its putative inclusion in the spectrum of IgG4-related disease. \n",
      "Our findings support the in\n",
      "\n"
     ]
    }
   ],
   "source": [
    "print_prediction(predictions[factoid_ids[2]], rev_vocab, factoid_postprocessor, with_context=True, context_char_limit=500)"
   ]
  },
  {
   "cell_type": "code",
   "execution_count": 15,
   "metadata": {
    "collapsed": true
   },
   "outputs": [],
   "source": [
    "WRONG_ANSWER_TYPE += 1\n",
    "WITHIN_TOP5 += 1"
   ]
  },
  {
   "cell_type": "code",
   "execution_count": 82,
   "metadata": {
    "collapsed": false
   },
   "outputs": [
    {
     "name": "stdout",
     "output_type": "stream",
     "text": [
      "Id:\n",
      "  56c1f045ef6e394741000058\n",
      "Question:\n",
      "  selexipag is used for which disease?\n",
      "Answers:\n",
      " * pulmonary arterial hypertension\n",
      "Predicted Answers:\n",
      " * ('pulmonary arterial hypertension', 0.44907489)\n",
      " * ('PAH', 0.24103047)\n",
      " * ('pulmonary arterial hypertension (PAH)', 0.16990203)\n",
      " * ('treprostinil', 0.14131568)\n",
      " * ('oral, selective prostacyclin', 0.069728665)\n",
      "OBJECTIVE: Selexipag is a novel, oral, selective prostacyclin (PGI2) receptor agonist in clinical development for the treatment of pulmonary arterial hypertension.\n",
      "Selexipag for the treatment of pulmonary arterial hypertension.\n",
      "This review was based on a PubMed search and focuses on the potential role of selexipag in the treatment of pulmonary arterial hypertension (PAH).\n",
      "Selexipag showed effects on pharmacodynamic end points obtained with right heart catheterization in a Phase II trial in patie\n",
      "\n"
     ]
    }
   ],
   "source": [
    "print_prediction(predictions[factoid_ids[3]], rev_vocab, factoid_postprocessor, with_context=True)"
   ]
  },
  {
   "cell_type": "code",
   "execution_count": 17,
   "metadata": {
    "collapsed": true
   },
   "outputs": [],
   "source": [
    "CORRECT += 1\n",
    "WITHIN_TOP5 += 1"
   ]
  },
  {
   "cell_type": "code",
   "execution_count": 18,
   "metadata": {
    "collapsed": false
   },
   "outputs": [
    {
     "name": "stdout",
     "output_type": "stream",
     "text": [
      "Id:\n",
      "  5710a592cf1c32585100002a\n",
      "Question:\n",
      "  which metabolite activates atxa?\n",
      "Answers:\n",
      " * CO2\n",
      " * bicarbonate\n",
      "Predicted Answers:\n",
      " * ('bicarbonate', 0.13786201)\n",
      " * ('Bacillus', 0.10073484)\n",
      " * ('atxA', 0.060979974)\n",
      " * ('B', 0.054563832)\n",
      " * ('Bacillus anthracis', 0.053057212)\n",
      "\n"
     ]
    }
   ],
   "source": [
    "print_prediction(predictions[factoid_ids[4]], rev_vocab, factoid_postprocessor)"
   ]
  },
  {
   "cell_type": "code",
   "execution_count": 19,
   "metadata": {
    "collapsed": true
   },
   "outputs": [],
   "source": [
    "CORRECT += 1\n",
    "WITHIN_TOP5 += 1"
   ]
  },
  {
   "cell_type": "code",
   "execution_count": 20,
   "metadata": {
    "collapsed": false
   },
   "outputs": [
    {
     "name": "stdout",
     "output_type": "stream",
     "text": [
      "Id:\n",
      "  5710ade4cf1c32585100002c\n",
      "Question:\n",
      "  what is the suggested therapy for mycobacterium avium infection?\n",
      "Answers:\n",
      " * Rifampin 10 mg/kg daily, ciprofloxacin 500 mg twice daily, clofazimine 100 mg every day, and ethambutol 15 mg/kg orally daily for 24 weeks, with or without amikacin 10 mg/kg intravenously or intramuscularly 5 days weekly for the first 4 weeks\n",
      "Predicted Answers:\n",
      " * ('clarithromycin', 0.083397761)\n",
      " * ('rifampicin', 0.065752611)\n",
      " * ('ethambutol', 0.058501508)\n",
      " * ('immune deficiency syndrome', 0.039601199)\n",
      " * ('Rifampin 10 mg/kg daily', 0.039457604)\n",
      "\n"
     ]
    }
   ],
   "source": [
    "print_prediction(predictions[factoid_ids[5]], rev_vocab, factoid_postprocessor)"
   ]
  },
  {
   "cell_type": "code",
   "execution_count": 21,
   "metadata": {
    "collapsed": true
   },
   "outputs": [],
   "source": [
    "LONG_ANSWER += 1"
   ]
  },
  {
   "cell_type": "code",
   "execution_count": 22,
   "metadata": {
    "collapsed": false
   },
   "outputs": [
    {
     "name": "stdout",
     "output_type": "stream",
     "text": [
      "Id:\n",
      "  5710e131a5ed216440000001\n",
      "Question:\n",
      "  in which yeast chromosome does the rdna cluster reside?\n",
      "Answers:\n",
      " * chromosome XII\n",
      " * chromosome 12\n",
      "Predicted Answers:\n",
      " * ('Saccharomyces cerevisiae', 0.27682716)\n",
      " * ('Chromosome XII', 0.045510918)\n",
      " * ('Saccharomyces', 0.026726596)\n",
      " * ('', 0.017904308)\n",
      " * ('XII', 0.014451817)\n",
      "Chromosome XII context is important for rDNA function in yeast\n",
      "The rDNA cluster in Saccharomyces cerevisiae is located 450 kb from the left end and 610 kb from the right end of chromosome XII and consists of approximately 150 tandemly repeated copies of a 9.1 kb rDNA unit\n",
      "To explore the biological significance of this specific chromosomal context, chromosome XII was split at both sides of the rDNA cluster and strains harboring deleted variants of chromosome XII consisting of 450 kb, 1500 kb (rDN\n",
      "\n"
     ]
    }
   ],
   "source": [
    "print_prediction(predictions[factoid_ids[6]], rev_vocab, factoid_postprocessor, with_context=True)"
   ]
  },
  {
   "cell_type": "code",
   "execution_count": 23,
   "metadata": {
    "collapsed": true
   },
   "outputs": [],
   "source": [
    "# Good example\n",
    "WRONG_ANSWER_TYPE += 1\n",
    "WITHIN_TOP5 += 1"
   ]
  },
  {
   "cell_type": "code",
   "execution_count": 24,
   "metadata": {
    "collapsed": false
   },
   "outputs": [
    {
     "name": "stdout",
     "output_type": "stream",
     "text": [
      "Id:\n",
      "  571366ba1174fb1755000005\n",
      "Question:\n",
      "  how can the fetal rhesus be determined with non-invasive testing?\n",
      "Answers:\n",
      " * free fetal DNA from maternal cirulcation\n",
      "Predicted Answers:\n",
      " * ('by analysis of cell-free DNA', 0.23273471)\n",
      " * ('by analysis of cell-free DNA in the maternal circulation is a rapidly evolving field', 0.13667606)\n",
      " * ('rapidly evolving field', 0.11576673)\n",
      " * ('by analysis of cell-free DNA in the maternal circulation', 0.11525083)\n",
      " * ('cell-free DNA in the maternal circulation', 0.10440883)\n",
      "Determination of fetal rhesus d status by maternal plasma DNA analysis.\n",
      "In this study, we assessed the feasibility of fetal RhD genotyping by analysis of cell-free fetal DNA(cffDNA) extracted from plasma samples of Rhesus (Rh) D-negative pregnant women by using real-time polymerase chain reaction (PCR).\n",
      "Performing real-time PCR on cffDNA showed accurate, efficient and reliable results, allowing rapid and high throughput non invasive determination of fetal sex and RhD status in clinical samples\n",
      "Non-invasive prenatal diagnosis of fetal RhD by using free fetal DNA\n",
      "The aim of this study is to determine fetal RhD status in the Rh incompatible pregnancies with an non-invasive technique; free fetal DNA isolation from maternal circulation.\n",
      " The detection of fetal RhD status by using a non-invasive method from maternal circulation was found to be possible. Assessing fetal RhD status non-invasively by using free fetal DNA in maternal blood will be cost-efficient, avoiding unnecessary indirect Coombs test and unnecessary Rhogam applications that is used in RH incompatible pregnancies.\n",
      "Fruitful research efforts have resulted in the clinical implementation of a number of non-invasive prenatal tests based on maternal plasma DNA analysis and included tests for fetal sex assessment, fetal rhesus D blood group genotyping and fetal chromosomal aneuploidy detection.\n",
      "Non-invasive antenatal diagnosis of fetal rhesus status in an alloimmunised patient.\n",
      "Our subsequent investigations have shown that this elevation in fetal cell traffic may serve as an early marker for those pregnancies at risk for this disorder.A very recent exciting discovery has been that free extracellular fetal DNA can be detected in the plasma and serum of pregnant women, which may permit the rapid and accurate detection of uniquely fetal loci, such as the fetal rhesus D gene in rhesus D negative pregnant women.\n",
      "Fetal rhesus D (RhD) status determination using circulating cell-free fetal DNA from maternal plasma or serum is now recognized in Europe as a reliable and useful tool.\n",
      "NGS is now sufficiently sensitive to analyze circulating fetal DNA in maternal blood (cell-free fetal DNA, cffDNA), enabling applications such as non invasive diagnosis of fetal sex (and X-linked diseases), fetal rhesus among rhesus-negative women, trisomy and, in the near future, Mendelian mutations\n",
      "High throughput non-invasive determination of foetal Rhesus D status using automated extraction of cell-free foetal DNA in maternal plasma and mass spectrometry\n",
      "Non-invasive RNA-based determination of fetal Rhesus D type: a prospective study based on 96 pregnancies.\n",
      "BACKGROUND: Analysis of cell free fetal (cff) DNA in maternal plasma is used routinely for non invasive prenatal diagnosis (NIPD) of fetal sex determination, fetal rhesus D status and some single gene disorders. \n",
      " Non-invasive prenatal diagnosis and testing by analysis of cell-free DNA in the maternal circulation is a rapidly evolving field. Current clinical applications include fetal sex determination, fetal rhesus D determination, the diagnosis of some single gene disorders, and a highly accurate screening test for aneuploidies.\n",
      "\n"
     ]
    }
   ],
   "source": [
    "print_prediction(predictions[factoid_ids[7]], rev_vocab, factoid_postprocessor, with_context=True, context_char_limit=5000)"
   ]
  },
  {
   "cell_type": "code",
   "execution_count": 25,
   "metadata": {
    "collapsed": true
   },
   "outputs": [],
   "source": [
    "NOT_EXTRACTABLE += 1\n",
    "SOMEWHAT_CORRECT += 1"
   ]
  },
  {
   "cell_type": "code",
   "execution_count": 26,
   "metadata": {
    "collapsed": false
   },
   "outputs": [
    {
     "name": "stdout",
     "output_type": "stream",
     "text": [
      "Id:\n",
      "  57136a7e1174fb1755000006\n",
      "Question:\n",
      "  how early during pregnancy does non-invasive cffdna testing allow sex determination of the fetus?\n",
      "Answers:\n",
      " * 6th to 10th week of gestation\n",
      " * first trimester of pregnancy\n",
      "Predicted Answers:\n",
      " * ('6th-10th', 0.49911994)\n",
      " * ('second trimester', 0.11349113)\n",
      " * ('first trimester', 0.043017577)\n",
      " * ('6th to 10th weeks', 0.036644924)\n",
      " * ('between 6th to 10th weeks', 0.034547769)\n",
      "The use of cffDNA in fetal sex determination during the first trimester of pregnancy of female DMD carriers.\n",
      "We determined fetal sex during the first trimester using a quantitative real-time polymerase chain reaction (PCR) assay of cffDNA in pregnant carriers of DMD.\n",
      "Early fetal gender determination using real-time PCR analysis of cell-free fetal DNA during 6th-10th weeks of gestation.\n",
      "Considerable 97.3% sensitivity and 97.3% specificity were obtained in fetal gender determination which is signi\n",
      "\n"
     ]
    }
   ],
   "source": [
    "print_prediction(predictions[factoid_ids[8]], rev_vocab, factoid_postprocessor, with_context=True)"
   ]
  },
  {
   "cell_type": "code",
   "execution_count": 27,
   "metadata": {
    "collapsed": true
   },
   "outputs": [],
   "source": [
    "SOMEWHAT_CORRECT += 1\n",
    "WITHIN_TOP5 += 1"
   ]
  },
  {
   "cell_type": "code",
   "execution_count": 28,
   "metadata": {
    "collapsed": false
   },
   "outputs": [
    {
     "name": "stdout",
     "output_type": "stream",
     "text": [
      "Id:\n",
      "  57138eb21174fb175500000a\n",
      "Question:\n",
      "  which is the protein implicated in spinocerebellar ataxia type 3?\n",
      "Answers:\n",
      " * Ataxin-3\n",
      "Predicted Answers:\n",
      " * ('ataxin-3', 0.13128851)\n",
      " * ('ataxin-3 protein', 0.044707473)\n",
      " * ('Spinocerebellar ataxia type 3', 0.026197806)\n",
      " * ('ataxin', 0.014643435)\n",
      " * ('Mutant ataxin-3', 0.014237258)\n",
      "\n"
     ]
    }
   ],
   "source": [
    "print_prediction(predictions[factoid_ids[9]], rev_vocab, factoid_postprocessor)"
   ]
  },
  {
   "cell_type": "code",
   "execution_count": 29,
   "metadata": {
    "collapsed": true
   },
   "outputs": [],
   "source": [
    "CORRECT += 1\n",
    "WITHIN_TOP5 += 1"
   ]
  },
  {
   "cell_type": "code",
   "execution_count": 30,
   "metadata": {
    "collapsed": false
   },
   "outputs": [
    {
     "name": "stdout",
     "output_type": "stream",
     "text": [
      "Id:\n",
      "  5713c8d71174fb1755000015\n",
      "Question:\n",
      "  which peripheral neuropathy has been associated with ndrg1 mutations?\n",
      "Answers:\n",
      " * Charcot-Marie-Tooth (CMT) 4D disease\n",
      "Predicted Answers:\n",
      " * ('CMT4D disease', 0.16679578)\n",
      " * ('N-myc downstream-regulated gene 1', 0.1269552)\n",
      " * ('SETX', 0.046886794)\n",
      " * ('', 0.044508174)\n",
      " * ('human NDRG1', 0.041041661)\n",
      "CMT4D disease is a severe autosomal recessive demyelinating neuropathy with extensive axonal loss leading to early disability, caused by mutations in the N-myc downstream regulated gene 1 (NDRG1)\n",
      "In a previous study, we have shown that N-myc downstream-regulated gene 1 (NDRG1), classified in databases as a tumor suppressor and heavy metal-response protein, is mutated in hereditary motor and sensory neuropathy Lom (HMSNL), a severe autosomal recessive form of Charcot-Marie-Tooth (CMT) disease\n",
      "In \n",
      "\n"
     ]
    }
   ],
   "source": [
    "print_prediction(predictions[factoid_ids[10]], rev_vocab, factoid_postprocessor, with_context=True, context_char_limit=500)"
   ]
  },
  {
   "cell_type": "code",
   "execution_count": 31,
   "metadata": {
    "collapsed": true
   },
   "outputs": [],
   "source": [
    "NOT_EXTRACTABLE += 1\n",
    "SHOULD_COUNT_CORRECT += 1\n",
    "WITHIN_TOP5 += 1"
   ]
  },
  {
   "cell_type": "code",
   "execution_count": 32,
   "metadata": {
    "collapsed": false
   },
   "outputs": [
    {
     "name": "stdout",
     "output_type": "stream",
     "text": [
      "Id:\n",
      "  5717d64f29809bbe7a000001\n",
      "Question:\n",
      "  which is the cellular localization of the protein opa1?\n",
      "Answers:\n",
      " * mitochondrial intermembrane space\n",
      "Predicted Answers:\n",
      " * ('PKA phosphorylates perilipin', 0.031572588)\n",
      " * ('Mgm1/OPA1', 0.029592136)\n",
      " * ('Mfn2', 0.022602187)\n",
      " * ('dynamin-related GTPase', 0.016423272)\n",
      " * ('GTPase OPA1', 0.012227485)\n",
      ". The subcellular distribution of mOPA1 overexpressed in COS-7 cells largely overlapped that of endogenous cytochrome c, a well known mitochondrial marker,\n",
      "elease of high MW Opa-1 isoforms from the mitochondria to the cytosol\n",
      " mitochondrial fusion (opa-1)\n",
      "mitochondrial fusion genes Mfn1 (mitofusin 1), Mfn2 (mitofusin 2), Opa1 (optic atrophy 1) \n",
      "Biochemical examinations indicate that both of the OPA1 isoforms are present in the intermembrane space. Submitochondrial fractionation by sucrose densit\n",
      "\n"
     ]
    }
   ],
   "source": [
    "print_prediction(predictions[factoid_ids[11]], rev_vocab, factoid_postprocessor, with_context=True, context_char_limit=500)"
   ]
  },
  {
   "cell_type": "code",
   "execution_count": 33,
   "metadata": {
    "collapsed": true
   },
   "outputs": [],
   "source": [
    "WRONG_ANSWER_TYPE += 1"
   ]
  },
  {
   "cell_type": "code",
   "execution_count": 34,
   "metadata": {
    "collapsed": false
   },
   "outputs": [
    {
     "name": "stdout",
     "output_type": "stream",
     "text": [
      "Id:\n",
      "  5717d86029809bbe7a000003\n",
      "Question:\n",
      "  which gene is involved in the development of barth syndrome?\n",
      "Answers:\n",
      " * Tafazzin (TAZ) gene\n",
      "Predicted Answers:\n",
      " * ('tafazzin', 0.52062207)\n",
      " * ('TAZ', 0.15372121)\n",
      " * ('tafazzins', 0.080350451)\n",
      " * ('tafazzin (TAZ) gene mutation\\nBarth syndrome is caused by mutations in the TAZ', 0.016136723)\n",
      " * ('glutamic acid', 0.0094389077)\n",
      "\n"
     ]
    }
   ],
   "source": [
    "print_prediction(predictions[factoid_ids[12]], rev_vocab, factoid_postprocessor)"
   ]
  },
  {
   "cell_type": "code",
   "execution_count": 35,
   "metadata": {
    "collapsed": true
   },
   "outputs": [],
   "source": [
    "SHOULD_COUNT_CORRECT += 1\n",
    "WITHIN_TOP5 += 1"
   ]
  },
  {
   "cell_type": "code",
   "execution_count": 36,
   "metadata": {
    "collapsed": false
   },
   "outputs": [
    {
     "name": "stdout",
     "output_type": "stream",
     "text": [
      "Id:\n",
      "  5717dbfe7de986d80d000001\n",
      "Question:\n",
      "  what is the functional role of the protein drp1?\n",
      "Answers:\n",
      " * mitochondrial fission\n",
      "Predicted Answers:\n",
      " * ('dynamin-related protein 1', 0.1075499)\n",
      " * ('dynamin-related protein 1 (Drp1)', 0.068688847)\n",
      " * ('BNIP1 expression increased dynamin-related protein 1', 0.034827583)\n",
      " * ('BNIP1 expression increased dynamin-related protein 1 (Drp1)', 0.024955679)\n",
      " * ('mediates mitochondrial fission', 0.021791963)\n",
      "\n"
     ]
    }
   ],
   "source": [
    "print_prediction(predictions[factoid_ids[13]], rev_vocab, factoid_postprocessor)"
   ]
  },
  {
   "cell_type": "code",
   "execution_count": 37,
   "metadata": {
    "collapsed": true
   },
   "outputs": [],
   "source": [
    "WRONG_ANSWER_TYPE += 1"
   ]
  },
  {
   "cell_type": "code",
   "execution_count": 38,
   "metadata": {
    "collapsed": false
   },
   "outputs": [
    {
     "name": "stdout",
     "output_type": "stream",
     "text": [
      "Id:\n",
      "  5719f5b27de986d80d00000c\n",
      "Question:\n",
      "  what is the function of neu5gc (n-glycolylneuraminic acid)?\n",
      "Answers:\n",
      " * Neu5Gc is an immune message to self\n",
      "Predicted Answers:\n",
      " * ('sialic acid', 0.14496738)\n",
      " * ('a sialic acid synthesized', 0.028764857)\n",
      " * ('a sialic acid', 0.024278264)\n",
      " * ('can trigger immune response', 0.022610324)\n",
      " * ('cytidine monophosphate-N-acetylneuraminic acid hydroxylase', 0.02078384)\n",
      "Humans lack a functional cytidine monophosphate-N-acetylneuraminic acid hydroxylase (CMAH) protein and cannot synthesize the sugar Neu5Gc, an innate mammalian signal of self\n",
      "N-glycolylneuraminic acid (Neu5Gc) is an immunogenic sugar of dietary origin that metabolically incorporates into diverse native glycoconjugates in humans. \n",
      "N-Glycolylneuraminic acid (Neu5Gc) is a sialic acid synthesized by animals, but not by humans or birds. However, it can be incorporated in human cells and can trigger immune response.\n",
      "Human heterophile antibodies that agglutinate animal erythrocytes are known to detect the nonhuman sialic acid N-glycolylneuraminic acid (Neu5Gc). \n",
      " the human anti-Neu5Gc antibody response is diverse and polyclonal.\n",
      "As dietary Neu5Gc is primarily found in red meat and milk products, we suggest that this ongoing antigen-antibody reaction may generate chronic inflammation, possibly contributing to the high frequency of diet-related carcinomas and other diseases in humans.\n",
      "These data suggest that anti-Neu5Gc Abs represent a barrier for long-term acceptance of porcine xenografts. Because anti-Neu5Gc Abs can promote chronic inflammation, the long-term safety of living and acellular pig tissue implants in recipients warrants further evaluation.\n",
      "\n"
     ]
    }
   ],
   "source": [
    "print_prediction(predictions[factoid_ids[14]], rev_vocab, factoid_postprocessor, with_context=True, context_char_limit=5000)"
   ]
  },
  {
   "cell_type": "code",
   "execution_count": 39,
   "metadata": {
    "collapsed": true
   },
   "outputs": [],
   "source": [
    "NOT_EXTRACTABLE += 1"
   ]
  },
  {
   "cell_type": "code",
   "execution_count": 40,
   "metadata": {
    "collapsed": false
   },
   "outputs": [
    {
     "name": "stdout",
     "output_type": "stream",
     "text": [
      "Id:\n",
      "  5719f5c67de986d80d00000d\n",
      "Question:\n",
      "  what distinguishes lantibiotics from antibiotics?\n",
      "Answers:\n",
      " * Lantibiotics are post-translationally modified natural peptides containing lanthionine\n",
      "Predicted Answers:\n",
      " * ('antibiotic peptides', 0.099774949)\n",
      " * ('prepeptides', 0.044987559)\n",
      " * ('cationic peptides/proteins', 0.04388281)\n",
      " * ('dehydrobutyrine', 0.043818798)\n",
      " * ('low levels of resistance', 0.036902942)\n",
      "One potentially interesting class of antimicrobials are the modified bacteriocins termed lantibiotics, which are bacterially produced, posttranslationally modified, lanthionine/methyllanthionine-containing peptides.\n",
      "low levels of resistance have been reported for lantibiotics compared with commercial antibiotics\n",
      "Mechanisms that hinder the action of lantibiotics are often innate systems that react to the presence of any cationic peptides/proteins or ones which result from cell well damage, rather\n",
      "\n"
     ]
    }
   ],
   "source": [
    "print_prediction(predictions[factoid_ids[15]], rev_vocab, factoid_postprocessor, with_context=True)"
   ]
  },
  {
   "cell_type": "code",
   "execution_count": 41,
   "metadata": {
    "collapsed": true
   },
   "outputs": [],
   "source": [
    "NOT_EXTRACTABLE += 1"
   ]
  },
  {
   "cell_type": "code",
   "execution_count": 42,
   "metadata": {
    "collapsed": false
   },
   "outputs": [
    {
     "name": "stdout",
     "output_type": "stream",
     "text": [
      "Id:\n",
      "  571cdd227de986d80d00000f\n",
      "Question:\n",
      "  which bacteria caused plague?\n",
      "Answers:\n",
      " * Yersinia pestis\n",
      "Predicted Answers:\n",
      " * ('Yersinia', 0.99534565)\n",
      " * ('Yersinia pestis', 0.058951233)\n",
      " * ('bubonic', 0.022814831)\n",
      " * ('bubonic plague', 0.0032212492)\n",
      " * ('enteric diseases', 0.0017863335)\n",
      " the causative bacteria Yersinia pestis as an agent of biological warfare have highlighted the need for a safe, efficacious, and rapidly producible vaccine. \n",
      "Yersinia, the causative bacteria of the bubonic plague and other enteric diseases\n",
      "\n"
     ]
    }
   ],
   "source": [
    "print_prediction(predictions[factoid_ids[16]], rev_vocab, factoid_postprocessor, with_context=True)"
   ]
  },
  {
   "cell_type": "code",
   "execution_count": 43,
   "metadata": {
    "collapsed": true
   },
   "outputs": [],
   "source": [
    "SOMEWHAT_CORRECT += 1\n",
    "WITHIN_TOP5 += 1"
   ]
  },
  {
   "cell_type": "code",
   "execution_count": 44,
   "metadata": {
    "collapsed": false
   },
   "outputs": [
    {
     "name": "stdout",
     "output_type": "stream",
     "text": [
      "Id:\n",
      "  571ce13f7de986d80d000011\n",
      "Question:\n",
      "  in which cells are gasdermins expressed?\n",
      "Answers:\n",
      " * epithelial cells\n",
      "Predicted Answers:\n",
      " * ('upper epidermis', 0.35832062)\n",
      " * ('Immunohistochemical analysis', 0.06592714)\n",
      " * ('Immunohistochemical', 0.051259469)\n",
      " * ('sebaceous gland and preputial', 0.035447281)\n",
      " * ('gastric cancers (GCs)', 0.028525231)\n",
      "Members of the novel gene family Gasdermin (Gsdm) are exclusively expressed in a highly tissue-specific manner in the epithelium of skin and the gastrointestinal tract. \n",
      "These results indicate that the mouse Gsdma and Gsdma3 genes share common function to regulate epithelial maintenance \n",
      "Gasdermin (GSDM or GSDMA), expressed in the upper gastrointestinal tract but frequently silenced in gastric cancers (GCs), regulates apoptosis of the gastric epithelium.\n",
      ". Immunohistochemical analysis revealed that gasdermins are expressed specifically in cells at advanced stages of differentiation in the upper epidermis, the differentiating inner root sheath and hair shaft and in the most mature sebocytes of the sebaceous gland and preputial, meibomium, ceruminous gland, and anal glands. This expression pattern suggests a role for gasdermins in differentiation of the epidermis and its appendages.\n",
      "\n"
     ]
    }
   ],
   "source": [
    "print_prediction(predictions[factoid_ids[17]], rev_vocab, factoid_postprocessor, with_context=True, context_char_limit=5000)"
   ]
  },
  {
   "cell_type": "code",
   "execution_count": 45,
   "metadata": {
    "collapsed": true
   },
   "outputs": [],
   "source": [
    "NOT_EXTRACTABLE += 1"
   ]
  },
  {
   "cell_type": "code",
   "execution_count": 46,
   "metadata": {
    "collapsed": false
   },
   "outputs": [
    {
     "name": "stdout",
     "output_type": "stream",
     "text": [
      "Id:\n",
      "  571e12097de986d80d000017\n",
      "Question:\n",
      "  which protein does empagliflozin inhibit?\n",
      "Answers:\n",
      " * SGLT2\n",
      "Predicted Answers:\n",
      " * ('gemfibrozil', 0.11976505)\n",
      " * ('SGLT2', 0.067950003)\n",
      " * ('sodium glucose', 0.049686939)\n",
      " * ('sodium glucose cotransporter 2', 0.030933177)\n",
      " * ('sodium glucose cotransporter-2', 0.025351383)\n",
      "Empagliflozin (Jardiance): a novel SGLT2 inhibitor for the treatment of type-2 diabetes.\n",
      "AIMS: Empagliflozin is a selective sodium glucose cotransporter 2 (SGLT2) inhibitor that inhibits renal glucose reabsorption and is being investigated for the treatment of type 2 diabetes mellitus (T2DM). \n",
      "Effect of food on the pharmacokinetics of empagliflozin, a sodium glucose cotransporter 2 (SGLT2) inhibitor, and assessment of dose proportionality in healthy volunteers.\n",
      "Safety, tolerability, pharmacokine\n",
      "\n"
     ]
    }
   ],
   "source": [
    "print_prediction(predictions[factoid_ids[18]], rev_vocab, factoid_postprocessor, with_context=True, context_char_limit=500)"
   ]
  },
  {
   "cell_type": "code",
   "execution_count": 47,
   "metadata": {
    "collapsed": true
   },
   "outputs": [],
   "source": [
    "WRONG_ANSWER_TYPE += 1\n",
    "WITHIN_TOP5 += 1"
   ]
  },
  {
   "cell_type": "code",
   "execution_count": 48,
   "metadata": {
    "collapsed": false
   },
   "outputs": [
    {
     "name": "stdout",
     "output_type": "stream",
     "text": [
      "Id:\n",
      "  571e14fbbb137a4b0c000001\n",
      "Question:\n",
      "  for which type of diabetes can empagliflozin be used?\n",
      "Answers:\n",
      " * type 2 diabetes mellitus\n",
      "Predicted Answers:\n",
      " * ('SGLT2', 0.20701998)\n",
      " * ('sodium-glucose co-transporter', 0.06659013)\n",
      " * ('sodium-glucose co-transporter 2', 0.057033274)\n",
      " * ('insulin', 0.053106554)\n",
      " * ('sodium glucose co-transporter-2', 0.049351662)\n",
      "Empagliflozin, an SGLT2 inhibitor for the treatment of type 2 diabetes mellitus: a review of the evidence.\n",
      "To review available studies of empagliflozin, a sodium glucose co-transporter-2 (SGLT2) inhibitor approved in 2014 by the European Commission and the United States Food and Drug Administration for the treatment of type 2 diabetes mellitus (T2DM).\n",
      "In Phase II trials in patients with type 2 diabetes, empagliflozin provided improvements in glycosylated hemoglobin (HbA1c) and other measures of \n",
      "\n"
     ]
    }
   ],
   "source": [
    "print_prediction(predictions[factoid_ids[19]], rev_vocab, factoid_postprocessor, with_context=True)"
   ]
  },
  {
   "cell_type": "code",
   "execution_count": 49,
   "metadata": {
    "collapsed": true
   },
   "outputs": [],
   "source": [
    "WRONG_ANSWER_TYPE += 1"
   ]
  },
  {
   "cell_type": "code",
   "execution_count": 50,
   "metadata": {
    "collapsed": false
   },
   "outputs": [
    {
     "name": "stdout",
     "output_type": "stream",
     "text": [
      "Id:\n",
      "  571e172bbb137a4b0c000002\n",
      "Question:\n",
      "  when was empagliflozin fda approved?\n",
      "Answers:\n",
      " * 2014\n",
      "Predicted Answers:\n",
      " * ('2014', 0.74671721)\n",
      " * ('in 2014', 0.0039122836)\n",
      " * ('empagliflozin', 0.0004895209)\n",
      " * ('sodium glucose co-transporter-2 (SGLT2) inhibitor approved in 2014', 0.00011115696)\n",
      " * ('2 diabetes mellitus', 8.5520718e-05)\n",
      "\n"
     ]
    }
   ],
   "source": [
    "print_prediction(predictions[factoid_ids[20]], rev_vocab, factoid_postprocessor)"
   ]
  },
  {
   "cell_type": "code",
   "execution_count": 51,
   "metadata": {
    "collapsed": true
   },
   "outputs": [],
   "source": [
    "CORRECT += 1\n",
    "WITHIN_TOP5 += 1"
   ]
  },
  {
   "cell_type": "code",
   "execution_count": 83,
   "metadata": {
    "collapsed": false
   },
   "outputs": [
    {
     "name": "stdout",
     "output_type": "stream",
     "text": [
      "Id:\n",
      "  571e275dbb137a4b0c000005\n",
      "Question:\n",
      "  what are 'vildagliptin', 'sitagliptin', 'saxagliptin', 'alogliptin', 'linagliptin', and 'dutogliptin'?\n",
      "Answers:\n",
      " * dipeptidyl peptidase-4 (DPP-4) inhibitors\n",
      "Predicted Answers:\n",
      " * ('DPP-4 inhibitors', 0.21010515)\n",
      " * (\"Embase search for 'vildagliptin\", 0.13462703)\n",
      " * ('metformin', 0.11230746)\n",
      " * ('Medline', 0.086508729)\n",
      " * ('monotherapy', 0.08594954)\n",
      "The present metaanalysis was designed to assess the effect of DPP-4 inhibitors on blood lipids, verifying possible differences across compounds of this class.METHODS: An extensive search of Medline and the Cochrane Library (any date up to December 31, 2010, restricted to randomized clinical trials, published in English) was performed for all trials containing, in any field, the words \"sitagliptin,\" \"vildagliptin,\" \"saxagliptin,\" \"alogliptin,\" \"linagliptin,\" and/or \"dutogliptin.\" \n",
      "Sitagliptin (MK\n",
      "\n"
     ]
    }
   ],
   "source": [
    "print_prediction(predictions[factoid_ids[21]], rev_vocab, factoid_postprocessor, with_context=True)"
   ]
  },
  {
   "cell_type": "code",
   "execution_count": 53,
   "metadata": {
    "collapsed": true
   },
   "outputs": [],
   "source": [
    "SHOULD_COUNT_CORRECT += 1\n",
    "WITHIN_TOP5 += 1"
   ]
  },
  {
   "cell_type": "code",
   "execution_count": 54,
   "metadata": {
    "collapsed": false
   },
   "outputs": [
    {
     "name": "stdout",
     "output_type": "stream",
     "text": [
      "Id:\n",
      "  571e2beabb137a4b0c000006\n",
      "Question:\n",
      "  how is oct3 associated with serotonin?\n",
      "Answers:\n",
      " * serotonin clearance\n",
      "Predicted Answers:\n",
      " * ('Organic cation transporter 3', 0.054632295)\n",
      " * ('OCT3 mRNA', 0.042553544)\n",
      " * ('high-capacity organic cation transporter 3', 0.035562091)\n",
      " * ('inhibits their function exclusively through the latter', 0.028476657)\n",
      " * ('Organic cation transporter 3 (OCT3) is a high-capacity, low-affinity transporter that mediates bidirectional, sodium-independent transport of dopamine, norepinephrine, epinephrine, serotonin, and histamine.\\nThe effect of blockade of either 5-hydroxytryptamine (5-HT)/serotonin transporter', 0.028202601)\n",
      "\n"
     ]
    }
   ],
   "source": [
    "print_prediction(predictions[factoid_ids[22]], rev_vocab, factoid_postprocessor)"
   ]
  },
  {
   "cell_type": "code",
   "execution_count": 55,
   "metadata": {
    "collapsed": false
   },
   "outputs": [
    {
     "name": "stdout",
     "output_type": "stream",
     "text": [
      "Id:\n",
      "  571e40a8bb137a4b0c000009\n",
      "Question:\n",
      "  which syndrome is associated with oatp1b1 and oatp1b3 deficiency?\n",
      "Answers:\n",
      " * Rotor syndrome\n",
      "Predicted Answers:\n",
      " * ('Rotor', 0.22170794)\n",
      " * ('Rotor syndrome', 0.14347503)\n",
      " * ('bilirubin reuptake', 0.05373624)\n",
      " * ('liver', 0.023573488)\n",
      " * ('Rotor syndrome was linked to mutations predicted to cause complete and simultaneous deficiencies of the organic anion transporting polypeptides OATP1B1 and OATP1B3.\\nHere, we analyzed 8 Rotor-syndrome families and found that Rotor', 0.018893724)\n",
      "Here, we analyzed 8 Rotor-syndrome families and found that Rotor syndrome was linked to mutations predicted to cause complete and simultaneous deficiencies of the organic anion transporting polypeptides OATP1B1 and OATP1B3.\n",
      "Thus, disruption of hepatic reuptake of bilirubin glucuronide due to coexisting OATP1B1 and OATP1B3 deficiencies explains Rotor-type hyperbilirubinemia. \n",
      "Complete OATP1B1 and OATP1B3 deficiency causes human Rotor syndrome by interrupting conjugated bilirubin reuptake into the\n",
      "\n"
     ]
    }
   ],
   "source": [
    "print_prediction(predictions[factoid_ids[23]], rev_vocab, factoid_postprocessor, with_context=True)"
   ]
  },
  {
   "cell_type": "code",
   "execution_count": 56,
   "metadata": {
    "collapsed": true
   },
   "outputs": [],
   "source": [
    "SHOULD_COUNT_CORRECT += 1\n",
    "WITHIN_TOP5 += 1"
   ]
  },
  {
   "cell_type": "code",
   "execution_count": 57,
   "metadata": {
    "collapsed": false
   },
   "outputs": [
    {
     "name": "stdout",
     "output_type": "stream",
     "text": [
      "Id:\n",
      "  571e4293bb137a4b0c00000b\n",
      "Question:\n",
      "  what is the cause of episodic ataxia type 6?\n",
      "Answers:\n",
      " * EAAT1 mutations\n",
      "Predicted Answers:\n",
      " * ('reduced glutamate uptake', 0.26940683)\n",
      " * ('mutations in the gene encoding a glial glutamate transporter', 0.15499985)\n",
      " * ('excitatory amino acid transporter-1', 0.10309289)\n",
      " * ('reduced glutamate uptake by mutant excitatory amino acid transporter-1', 0.07833489)\n",
      " * ('glutamate uptake', 0.066270329)\n",
      "There are several genetically and clinically distinct forms of this disease, and one of them, episodic ataxia type 6, is caused by mutations in the gene encoding a glial glutamate transporter, the excitatory amino acid transporter-1. So far, reduced glutamate uptake by mutant excitatory amino acid transporter-1 has been thought to be the main pathophysiological process in episodic ataxia type 6. \n",
      "Episodic ataxia type 6 represents the first human disease found to be associated with altered function of excitatory amino acid transporter anion channels and illustrates possible physiological and pathophysiological impacts of this functional mode of this class of glutamate transporters.\n",
      "There are several genetically and clinically distinct forms of this disease, and one of them, episodic ataxia type 6, is caused by mutations in the gene encoding a glial glutamate transporter, the excitatory amino acid transporter-1. So far, reduced glutamate uptake by mutant excitatory amino acid transporter-1 has been thought to be the main pathophysiological process in episodic ataxia type 6.\n",
      "There are several genetically and clinically distinct forms of this disease, and one of them, episodic ataxia type 6, is caused by mutations in the gene encoding a glial glutamate transporter, the excitatory amino acid transporter-1.\n",
      "\n"
     ]
    }
   ],
   "source": [
    "print_prediction(predictions[factoid_ids[24]], rev_vocab, factoid_postprocessor, with_context=True, context_char_limit=5000)"
   ]
  },
  {
   "cell_type": "code",
   "execution_count": 58,
   "metadata": {
    "collapsed": true
   },
   "outputs": [],
   "source": [
    "NOT_EXTRACTABLE += 1\n",
    "WITHIN_TOP5 += 1"
   ]
  },
  {
   "cell_type": "code",
   "execution_count": 84,
   "metadata": {
    "collapsed": false
   },
   "outputs": [
    {
     "name": "stdout",
     "output_type": "stream",
     "text": [
      "Id:\n",
      "  571f33bd0fd6f91b68000003\n",
      "Question:\n",
      "  which gene is responsible for the development of sotos syndrome?\n",
      "Answers:\n",
      " * NSD1 gene\n",
      "Predicted Answers:\n",
      " * ('NSD1', 0.59406751)\n",
      " * ('NSD1 gene', 0.18805183)\n",
      " * ('Mutations', 0.10041367)\n",
      " * ('Mutations in NSD1', 0.074500352)\n",
      " * ('macrocephaly', 0.052492421)\n",
      "Sotos syndrome is a well-known overgrowth syndrome characterized by excessive growth during childhood, macrocephaly, distinctive facial appearance and learning disability. This disorder is caused by mutations or deletions in NSD1 gene\n",
      "Sotos syndrome (SoS) is a multiple anomaly, congenital disorder characterized by overgrowth, macrocephaly, distinctive facial features and variable degree of intellectual disability. Haploinsufficiency of the NSD1 gene at 5q35.3, arising from 5q35 microdeletions, p\n",
      "\n"
     ]
    }
   ],
   "source": [
    "print_prediction(predictions[factoid_ids[25]], rev_vocab, factoid_postprocessor, with_context=True)"
   ]
  },
  {
   "cell_type": "code",
   "execution_count": 60,
   "metadata": {
    "collapsed": true
   },
   "outputs": [],
   "source": [
    "SHOULD_COUNT_CORRECT += 1\n",
    "WITHIN_TOP5 += 1"
   ]
  },
  {
   "cell_type": "code",
   "execution_count": 88,
   "metadata": {
    "collapsed": false
   },
   "outputs": [
    {
     "name": "stdout",
     "output_type": "stream",
     "text": [
      "Id:\n",
      "  571f5c150fd6f91b68000009\n",
      "Question:\n",
      "  which protein is found to be mutated in friedreich's ataxia?\n",
      "Answers:\n",
      " * Frataxin\n",
      "Predicted Answers:\n",
      " * ('Drosophila frataxin', 0.77032572)\n",
      " * ('Frataxin', 0.27225748)\n",
      " * ('pancreas\\nFriedreich', 0.059299029)\n",
      " * ('elegans', 0.058782846)\n",
      " * ('frataxin deficiency', 0.038463593)\n",
      "It is generally accepted that Friedreich's ataxia (FRDA) is caused by a deficiency in frataxin expression, a mitochondrial protein involved in iron homeostasis, which mainly affects the brain, dorsal root ganglia of the spinal cord, heart and in certain cases the pancreas\n",
      "Friedreich's ataxia is a severe neurodegenerative disease caused by the decreased expression of frataxin, a mitochondrial protein that stimulates iron-sulfur (Fe-S) cluster biogenesis\n",
      "In eukaryotes, frataxin deficiency (FXN) ca\n",
      "\n"
     ]
    }
   ],
   "source": [
    "print_prediction(predictions[factoid_ids[26]], rev_vocab, factoid_postprocessor, with_context=True)"
   ]
  },
  {
   "cell_type": "code",
   "execution_count": 62,
   "metadata": {
    "collapsed": true
   },
   "outputs": [],
   "source": [
    "SHOULD_COUNT_CORRECT += 1\n",
    "WITHIN_TOP5 += 1"
   ]
  },
  {
   "cell_type": "code",
   "execution_count": 63,
   "metadata": {
    "collapsed": false
   },
   "outputs": [
    {
     "name": "stdout",
     "output_type": "stream",
     "text": [
      "Id:\n",
      "  571f5e740fd6f91b6800000b\n",
      "Question:\n",
      "  which enzyme is deficient in gaucher's disease?\n",
      "Answers:\n",
      " * Beta glucocerebrosidase\n",
      "Predicted Answers:\n",
      " * ('β-glucocerebrosidase', 0.24500941)\n",
      " * ('', 0.15059355)\n",
      " * ('glucocerebrosidase', 0.13008626)\n",
      " * ('glucocerebrosidase deficiency', 0.10309959)\n",
      " * ('Functional glucocerebrosidase', 0.081666328)\n",
      "\n"
     ]
    }
   ],
   "source": [
    "print_prediction(predictions[factoid_ids[27]], rev_vocab, factoid_postprocessor)"
   ]
  },
  {
   "cell_type": "code",
   "execution_count": 64,
   "metadata": {
    "collapsed": true
   },
   "outputs": [],
   "source": [
    "SHOULD_COUNT_CORRECT += 1\n",
    "WITHIN_TOP5 += 1"
   ]
  },
  {
   "cell_type": "code",
   "execution_count": 65,
   "metadata": {
    "collapsed": false
   },
   "outputs": [
    {
     "name": "stdout",
     "output_type": "stream",
     "text": [
      "Id:\n",
      "  571f609c0fd6f91b6800000c\n",
      "Question:\n",
      "  which enzyme deficiency can cause gm1 gangliosidoses?\n",
      "Answers:\n",
      " * β-galactosidase\n",
      "Predicted Answers:\n",
      " * ('beta-galactosidase', 0.14753801)\n",
      " * ('β-hexosaminidase', 0.13878612)\n",
      " * ('β-galactosidase', 0.065652564)\n",
      " * ('beta-galactosidose', 0.037685119)\n",
      " * ('acid beta-galactosidase (beta-gal)', 0.030214785)\n",
      "\n"
     ]
    }
   ],
   "source": [
    "print_prediction(predictions[factoid_ids[28]], rev_vocab, factoid_postprocessor)"
   ]
  },
  {
   "cell_type": "code",
   "execution_count": 66,
   "metadata": {
    "collapsed": true
   },
   "outputs": [],
   "source": [
    "SHOULD_COUNT_CORRECT += 1\n",
    "WITHIN_TOP5 += 1"
   ]
  },
  {
   "cell_type": "code",
   "execution_count": 90,
   "metadata": {
    "collapsed": false
   },
   "outputs": [
    {
     "name": "stdout",
     "output_type": "stream",
     "text": [
      "Id:\n",
      "  572096c90fd6f91b6800000e\n",
      "Question:\n",
      "  which gene is involved in giant axonal neuropathy?\n",
      "Answers:\n",
      " * GAN gene\n",
      "Predicted Answers:\n",
      " * ('1634G', 0.10628324)\n",
      " * ('GAN gene\\nGiant Axonal Neuropathy', 0.041052084)\n",
      " * ('gigaxonin', 0.039144479)\n",
      " * ('BTB-KELCH protein Gigaxonin', 0.039069045)\n",
      " * ('GAN', 0.037875604)\n",
      "Giant axonal neuropathy (GAN) is a progressive neurodegenerative disease caused by autosomal recessive mutations in the GAN gene resulting in a loss of a ubiquitously expressed protein, gigaxonin\n",
      "We describe a toddler with clinical features suggesting giant axonal neuropathy (GAN), whose diagnosis was confirmed by minimally invasive skin biopsy and corroborated by the finding of compound heterozygous mutations involving the GAN gene\n",
      "Giant Axonal Neuropathy is a pediatric neurodegenerative disord\n",
      "\n"
     ]
    }
   ],
   "source": [
    "print_prediction(predictions[factoid_ids[29]], rev_vocab, factoid_postprocessor, with_context=True)"
   ]
  },
  {
   "cell_type": "code",
   "execution_count": 68,
   "metadata": {
    "collapsed": false
   },
   "outputs": [],
   "source": [
    "WRONG_ANSWER_TYPE += 1\n",
    "WITHIN_TOP5 += 1"
   ]
  },
  {
   "cell_type": "code",
   "execution_count": 69,
   "metadata": {
    "collapsed": false
   },
   "outputs": [
    {
     "name": "stdout",
     "output_type": "stream",
     "text": [
      "Id:\n",
      "  5721f4b30fd6f91b68000011\n",
      "Question:\n",
      "  which inherited disorder is known to be caused by mutations in the nemo gene?\n",
      "Answers:\n",
      " * Incontinentia pigmenti or Bloch-Sulzberger syndrome\n",
      "Predicted Answers:\n",
      " * ('CYBB', 0.50796443)\n",
      " * ('Incontinentia pigmenti', 0.24256466)\n",
      " * ('incontinenia pigmenti', 0.13879405)\n",
      " * ('IP', 0.064368941)\n",
      " * ('Incontinentia pigmenti (IP)', 0.041788947)\n",
      "Incontinentia pigmenti (IP) is a rare neurocutaneous disorder with a frequency of 1 in 50,000 newborn, and is associated with mutations in IKBKG gene (NEMO) in Xq28, inherited as an X-linked dominant trait\n",
      "Mutations in the NEMO gene give rise to a heterogeneous group of disorders, including the X-linked dominant disorder incontinentia pigmenti\n",
      "De novo NEMO gene deletion (delta4-10)--a cause of incontinentia pigmenti in a female infant\n",
      "Incontinentia pigmenti (IP) is a rare, inherited, multisystem\n",
      "\n"
     ]
    }
   ],
   "source": [
    "print_prediction(predictions[factoid_ids[30]], rev_vocab, factoid_postprocessor, with_context=True)"
   ]
  },
  {
   "cell_type": "code",
   "execution_count": 70,
   "metadata": {
    "collapsed": true
   },
   "outputs": [],
   "source": [
    "NOT_EXTRACTABLE += 1\n",
    "WRONG_ANSWER_TYPE += 1\n",
    "WITHIN_TOP5 += 1"
   ]
  },
  {
   "cell_type": "code",
   "execution_count": 71,
   "metadata": {
    "collapsed": false
   },
   "outputs": [
    {
     "name": "stdout",
     "output_type": "stream",
     "text": [
      "Id:\n",
      "  57279ef20fd6f91b68000018\n",
      "Question:\n",
      "  which intraflagellar transport (ift) motor protein has been linked to human skeletal ciliopathies?\n",
      "Answers:\n",
      " * Intraflagellar transport (IFT) motor protein DYNC2H1\n",
      "Predicted Answers:\n",
      " * ('DYNC2H1', 0.73991364)\n",
      " * ('DYNC2H1, have been linked to human skeletal ciliopathies, including asphyxiating thoracic dystrophy (ATD; also known as Jeune syndrome), Sensenbrenner syndrome, and Mainzer-Saldino syndrome (MZSDS).\\nCytoplasmic dynein-2 is the motor for retrograde intraflagellar transport (IFT), and mutations in dynein-2 are known to cause skeletal ciliopathies.\\nDeficiency of IFT proteins, including DYNC2H1, underlies a spectrum of skeletal ciliopathies.\\nAll six IFT-A components and their motor protein, DYNC2H1', 0.43707862)\n",
      " * ('', 0.26879317)\n",
      " * ('DYNC2H1, have been linked to human skeletal ciliopathies, including asphyxiating thoracic dystrophy (ATD; also known as Jeune syndrome), Sensenbrenner syndrome, and Mainzer-Saldino syndrome (MZSDS). \\nCytoplasmic dynein-2 (dynein-2) performs intraflagellar transport and is associated with human skeletal ciliopathies. \\nCytoplasmic dynein-2 is the motor for retrograde intraflagellar transport (IFT), and mutations in dynein-2 are known to cause skeletal ciliopathies. \\nDeficiency of IFT proteins, including DYNC2H1, underlies a spectrum of skeletal ciliopathies. \\n Intraflagellar transport (IFT) depends on two evolutionarily conserved modules, subcomplexes A (IFT-A) and B (IFT-B), to drive ciliary assembly and maintenance. All six IFT-A components and their motor protein, DYNC2H1', 0.18878654)\n",
      " * ('DYNC2H1, have been linked to human skeletal ciliopathies, including asphyxiating thoracic dystrophy (ATD; also known as Jeune syndrome), Sensenbrenner syndrome, and Mainzer-Saldino syndrome (MZSDS).\\nCytoplasmic dynein-2 is the motor for retrograde intraflagellar transport (IFT), and mutations in dynein-2 are known to cause skeletal ciliopathies.\\nDeficiency of IFT proteins, including DYNC2H1, underlies a spectrum of skeletal ciliopathies.\\nAll six IFT-A components and their motor protein, DYNC2H1, have been linked to human skeletal ciliopathies, including asphyxiating thoracic dystrophy (ATD; also known as Jeune syndrome), Sensenbrenner syndrome, and Mainzer-Saldino syndrome (MZSDS)\\nAll six IFT-A components and their motor protein, DYNC2H1, have been linked to human skeletal ciliopathies, including asphyxiating thoracic dystrophy (ATD; also known as Jeune syndrome), Sensenbrenner syndrome, and Mainzer-Saldino syndrome (MZSDS). \\nCytoplasmic dynein-2 (dynein-2) performs intraflagellar transport and is associated with human skeletal ciliopathies. \\nCytoplasmic dynein-2 is the motor for retrograde intraflagellar transport (IFT), and mutations in dynein-2 are known to cause skeletal ciliopathies. \\nDeficiency of IFT proteins, including DYNC2H1, underlies a spectrum of skeletal ciliopathies. \\n Intraflagellar transport (IFT) depends on two evolutionarily conserved modules, subcomplexes A (IFT-A) and B (IFT-B), to drive ciliary assembly and maintenance. All six IFT-A components and their motor protein, DYNC2H1', 0.084701419)\n",
      "Cytoplasmic dynein-2 (dynein-2) performs intraflagellar transport and is associated with human skeletal ciliopathies\n",
      "Cytoplasmic dynein-2 is the motor for retrograde intraflagellar transport (IFT), and mutations in dynein-2 are known to cause skeletal ciliopathies\n",
      "Intraflagellar transport (IFT) depends on two evolutionarily conserved modules, subcomplexes A (IFT-A) and B (IFT-B), to drive ciliary assembly and maintenance. All six IFT-A components and their motor protein, DYNC2H1, have been linke\n",
      "\n"
     ]
    }
   ],
   "source": [
    "print_prediction(predictions[factoid_ids[31]], rev_vocab, factoid_postprocessor, with_context=True)"
   ]
  },
  {
   "cell_type": "code",
   "execution_count": 72,
   "metadata": {
    "collapsed": true
   },
   "outputs": [],
   "source": [
    "NOT_EXTRACTABLE += 1\n",
    "SHOULD_COUNT_CORRECT += 1\n",
    "WITHIN_TOP5 += 1"
   ]
  },
  {
   "cell_type": "code",
   "execution_count": 73,
   "metadata": {
    "collapsed": false
   },
   "outputs": [
    {
     "name": "stdout",
     "output_type": "stream",
     "text": [
      "Id:\n",
      "  5727ab040fd6f91b68000019\n",
      "Question:\n",
      "  which gene has been found to be mutant in lesch-nyhan disease patients?\n",
      "Answers:\n",
      " * Hypoxanthine guanine phosphoribosyl transferase (HPRT) gene\n",
      "Predicted Answers:\n",
      " * ('HPRT', 0.25206044)\n",
      " * ('exon 8', 0.17887814)\n",
      " * ('hypoxanthine-guanine phosphoribosyltransferase', 0.13098602)\n",
      " * ('HPRT1 gene', 0.091416165)\n",
      " * ('HPRT1', 0.066123664)\n",
      "We describe a family of seven boys affected by Lesch-Nyhan disease with various phenotypes. Further investigations revealed a mutation c.203T>C in the gene encoding HGprt of all members, with substitution of leucine to proline at residue 68 (p.Leu68Pro)\n",
      "Lesch-Nyhan disease (LND) is caused by deficiency of hypoxanthine guanine phosphoribosyltransferase (HPRT)\n",
      "Lesch-Nyhan Disease (LND) is the result of mutations in the X-linked gene encoding the purine metabolic enzyme, hypoxanthine guanine phosph\n",
      "\n"
     ]
    }
   ],
   "source": [
    "print_prediction(predictions[factoid_ids[32]], rev_vocab, factoid_postprocessor, with_context=True, context_char_limit=500)"
   ]
  },
  {
   "cell_type": "code",
   "execution_count": 74,
   "metadata": {
    "collapsed": true
   },
   "outputs": [],
   "source": [
    "NOT_EXTRACTABLE += 1\n",
    "SHOULD_COUNT_CORRECT += 1\n",
    "WITHIN_TOP5 += 1"
   ]
  },
  {
   "cell_type": "markdown",
   "metadata": {},
   "source": [
    "## Summary"
   ]
  },
  {
   "cell_type": "markdown",
   "metadata": {},
   "source": [
    "Total Questions:"
   ]
  },
  {
   "cell_type": "code",
   "execution_count": 75,
   "metadata": {
    "collapsed": false
   },
   "outputs": [
    {
     "data": {
      "text/plain": [
       "33"
      ]
     },
     "execution_count": 75,
     "metadata": {},
     "output_type": "execute_result"
    }
   ],
   "source": [
    "len(factoid_questions)"
   ]
  },
  {
   "cell_type": "markdown",
   "metadata": {},
   "source": [
    "Not Extractable:"
   ]
  },
  {
   "cell_type": "code",
   "execution_count": 76,
   "metadata": {
    "collapsed": false
   },
   "outputs": [
    {
     "data": {
      "text/plain": [
       "10"
      ]
     },
     "execution_count": 76,
     "metadata": {},
     "output_type": "execute_result"
    }
   ],
   "source": [
    "NOT_EXTRACTABLE"
   ]
  },
  {
   "cell_type": "code",
   "execution_count": 77,
   "metadata": {
    "collapsed": false
   },
   "outputs": [
    {
     "data": {
      "text/plain": [
       "4"
      ]
     },
     "execution_count": 77,
     "metadata": {},
     "output_type": "execute_result"
    }
   ],
   "source": [
    "CORRECT"
   ]
  },
  {
   "cell_type": "code",
   "execution_count": 78,
   "metadata": {
    "collapsed": false
   },
   "outputs": [
    {
     "data": {
      "text/plain": [
       "10"
      ]
     },
     "execution_count": 78,
     "metadata": {},
     "output_type": "execute_result"
    }
   ],
   "source": [
    "SHOULD_COUNT_CORRECT"
   ]
  },
  {
   "cell_type": "code",
   "execution_count": 79,
   "metadata": {
    "collapsed": false
   },
   "outputs": [
    {
     "data": {
      "text/plain": [
       "24"
      ]
     },
     "execution_count": 79,
     "metadata": {},
     "output_type": "execute_result"
    }
   ],
   "source": [
    "WITHIN_TOP5"
   ]
  },
  {
   "cell_type": "code",
   "execution_count": 80,
   "metadata": {
    "collapsed": false
   },
   "outputs": [
    {
     "data": {
      "text/plain": [
       "8"
      ]
     },
     "execution_count": 80,
     "metadata": {},
     "output_type": "execute_result"
    }
   ],
   "source": [
    "WRONG_ANSWER_TYPE"
   ]
  },
  {
   "cell_type": "code",
   "execution_count": 81,
   "metadata": {
    "collapsed": false
   },
   "outputs": [
    {
     "data": {
      "text/plain": [
       "4"
      ]
     },
     "execution_count": 81,
     "metadata": {},
     "output_type": "execute_result"
    }
   ],
   "source": [
    "SOMEWHAT_CORRECT"
   ]
  },
  {
   "cell_type": "code",
   "execution_count": null,
   "metadata": {
    "collapsed": true
   },
   "outputs": [],
   "source": []
  }
 ],
 "metadata": {
  "kernelspec": {
   "display_name": "Py3.6 (jack-fastqa)",
   "language": "python",
   "name": "jack-env"
  },
  "language_info": {
   "codemirror_mode": {
    "name": "ipython",
    "version": 3
   },
   "file_extension": ".py",
   "mimetype": "text/x-python",
   "name": "python",
   "nbconvert_exporter": "python",
   "pygments_lexer": "ipython3",
   "version": "3.6.4"
  }
 },
 "nbformat": 4,
 "nbformat_minor": 2
}
